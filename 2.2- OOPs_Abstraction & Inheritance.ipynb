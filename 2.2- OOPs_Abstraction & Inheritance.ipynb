{
 "cells": [
  {
   "cell_type": "markdown",
   "metadata": {},
   "source": [
    "# OOPs : Abstraction & Inheritance"
   ]
  },
  {
   "cell_type": "code",
   "execution_count": 9,
   "metadata": {},
   "outputs": [],
   "source": [
    "class test:\n",
    "    def __init__(self, a , b  , c ,d ) :\n",
    "        self._a = a   #single _a is creating confusion as it is not able to decide which a to take\n",
    "        self.b = b\n",
    "        self.c = c \n",
    "        self.d = d \n",
    "    def test_custome(self , v ) : \n",
    "         return v - self.__a\n",
    "    \n",
    "    def __str__(self):\n",
    "        return \"this is my test code for abstraction\""
   ]
  },
  {
   "cell_type": "code",
   "execution_count": 10,
   "metadata": {},
   "outputs": [],
   "source": [
    "o= test(4,5,6,7)"
   ]
  },
  {
   "cell_type": "code",
   "execution_count": 11,
   "metadata": {},
   "outputs": [
    {
     "ename": "AttributeError",
     "evalue": "'test' object has no attribute '_test__a'",
     "output_type": "error",
     "traceback": [
      "\u001b[1;31m---------------------------------------------------------------------------\u001b[0m",
      "\u001b[1;31mAttributeError\u001b[0m                            Traceback (most recent call last)",
      "\u001b[1;32m<ipython-input-11-34e92870a5a2>\u001b[0m in \u001b[0;36m<module>\u001b[1;34m\u001b[0m\n\u001b[1;32m----> 1\u001b[1;33m \u001b[0mo\u001b[0m\u001b[1;33m.\u001b[0m\u001b[0mtest_custome\u001b[0m\u001b[1;33m(\u001b[0m\u001b[1;36m7\u001b[0m\u001b[1;33m)\u001b[0m\u001b[1;33m\u001b[0m\u001b[1;33m\u001b[0m\u001b[0m\n\u001b[0m",
      "\u001b[1;32m<ipython-input-9-8d76ece3b7d5>\u001b[0m in \u001b[0;36mtest_custome\u001b[1;34m(self, v)\u001b[0m\n\u001b[0;32m      6\u001b[0m         \u001b[0mself\u001b[0m\u001b[1;33m.\u001b[0m\u001b[0md\u001b[0m \u001b[1;33m=\u001b[0m \u001b[0md\u001b[0m\u001b[1;33m\u001b[0m\u001b[1;33m\u001b[0m\u001b[0m\n\u001b[0;32m      7\u001b[0m     \u001b[1;32mdef\u001b[0m \u001b[0mtest_custome\u001b[0m\u001b[1;33m(\u001b[0m\u001b[0mself\u001b[0m \u001b[1;33m,\u001b[0m \u001b[0mv\u001b[0m \u001b[1;33m)\u001b[0m \u001b[1;33m:\u001b[0m\u001b[1;33m\u001b[0m\u001b[1;33m\u001b[0m\u001b[0m\n\u001b[1;32m----> 8\u001b[1;33m          \u001b[1;32mreturn\u001b[0m \u001b[0mv\u001b[0m \u001b[1;33m-\u001b[0m \u001b[0mself\u001b[0m\u001b[1;33m.\u001b[0m\u001b[0m__a\u001b[0m\u001b[1;33m\u001b[0m\u001b[1;33m\u001b[0m\u001b[0m\n\u001b[0m\u001b[0;32m      9\u001b[0m \u001b[1;33m\u001b[0m\u001b[0m\n\u001b[0;32m     10\u001b[0m     \u001b[1;32mdef\u001b[0m \u001b[0m__str__\u001b[0m\u001b[1;33m(\u001b[0m\u001b[0mself\u001b[0m\u001b[1;33m)\u001b[0m\u001b[1;33m:\u001b[0m\u001b[1;33m\u001b[0m\u001b[1;33m\u001b[0m\u001b[0m\n",
      "\u001b[1;31mAttributeError\u001b[0m: 'test' object has no attribute '_test__a'"
     ]
    }
   ],
   "source": [
    "o.test_custome(7)"
   ]
  },
  {
   "cell_type": "code",
   "execution_count": 12,
   "metadata": {},
   "outputs": [
    {
     "data": {
      "text/plain": [
       "4"
      ]
     },
     "execution_count": 12,
     "metadata": {},
     "output_type": "execute_result"
    }
   ],
   "source": [
    "o._a"
   ]
  },
  {
   "cell_type": "code",
   "execution_count": 15,
   "metadata": {},
   "outputs": [],
   "source": [
    "class test:\n",
    "    def __init__(self, a , b  , c ,d ) :\n",
    "        self.__a = a   #extraction of variable\n",
    "                    # private, public, protected concepts are implemented using __a 9double underscore a\n",
    "        self.b = b\n",
    "        self.c = c \n",
    "        self.d = d \n",
    "    def test_custome(self , v ) : \n",
    "         return v - self.__a\n",
    "    \n",
    "    def __str__(self):\n",
    "        return \"this is my test code for abstraction\""
   ]
  },
  {
   "cell_type": "code",
   "execution_count": 16,
   "metadata": {},
   "outputs": [],
   "source": [
    "o= test(4,5,6,7)"
   ]
  },
  {
   "cell_type": "code",
   "execution_count": 19,
   "metadata": {},
   "outputs": [
    {
     "data": {
      "text/plain": [
       "3"
      ]
     },
     "execution_count": 19,
     "metadata": {},
     "output_type": "execute_result"
    }
   ],
   "source": [
    "o.test_custome(7)"
   ]
  },
  {
   "cell_type": "code",
   "execution_count": 20,
   "metadata": {},
   "outputs": [
    {
     "ename": "AttributeError",
     "evalue": "'test' object has no attribute '__a'",
     "output_type": "error",
     "traceback": [
      "\u001b[1;31m---------------------------------------------------------------------------\u001b[0m",
      "\u001b[1;31mAttributeError\u001b[0m                            Traceback (most recent call last)",
      "\u001b[1;32m<ipython-input-20-1e42657c998a>\u001b[0m in \u001b[0;36m<module>\u001b[1;34m\u001b[0m\n\u001b[1;32m----> 1\u001b[1;33m \u001b[0mo\u001b[0m\u001b[1;33m.\u001b[0m\u001b[0m__a\u001b[0m\u001b[1;33m\u001b[0m\u001b[1;33m\u001b[0m\u001b[0m\n\u001b[0m",
      "\u001b[1;31mAttributeError\u001b[0m: 'test' object has no attribute '__a'"
     ]
    }
   ],
   "source": [
    "o.__a"
   ]
  },
  {
   "cell_type": "markdown",
   "metadata": {},
   "source": [
    " Abstraction of variable is basically accessing the variable."
   ]
  },
  {
   "cell_type": "code",
   "execution_count": 23,
   "metadata": {},
   "outputs": [],
   "source": [
    "# with  a it means PUBLIC\n",
    "# with _a it was giving no error i.e PROTECTED\n",
    "# with __a it is giving error i.e PRIVATE"
   ]
  },
  {
   "cell_type": "code",
   "execution_count": 22,
   "metadata": {},
   "outputs": [
    {
     "data": {
      "text/plain": [
       "4"
      ]
     },
     "execution_count": 22,
     "metadata": {},
     "output_type": "execute_result"
    }
   ],
   "source": [
    "o._test__a"
   ]
  },
  {
   "cell_type": "markdown",
   "metadata": {},
   "source": [
    "INHERITANCE"
   ]
  },
  {
   "cell_type": "markdown",
   "metadata": {},
   "source": [
    "we want to increase the reuseability. when we want to use variable of a class which is already predefined. Inherit property From a parent class to child class."
   ]
  },
  {
   "cell_type": "code",
   "execution_count": 33,
   "metadata": {},
   "outputs": [
    {
     "data": {
      "text/plain": [
       "6"
      ]
     },
     "execution_count": 33,
     "metadata": {},
     "output_type": "execute_result"
    }
   ],
   "source": [
    "class test1(test):   #here test is parent class, test1 is child class\n",
    "    def __init__(self, j , *args):\n",
    "        super(test1,self).__init__(*args)  #intiliasing/invoking parent class variable\n",
    "        self.j = j \n",
    "        \n",
    "m = test1(4,5,6,7,8)\n",
    "m.b"
   ]
  },
  {
   "cell_type": "code",
   "execution_count": 34,
   "metadata": {},
   "outputs": [
    {
     "data": {
      "text/plain": [
       "4"
      ]
     },
     "execution_count": 34,
     "metadata": {},
     "output_type": "execute_result"
    }
   ],
   "source": [
    "m.j  #intialising parent class variable"
   ]
  },
  {
   "cell_type": "code",
   "execution_count": 35,
   "metadata": {},
   "outputs": [
    {
     "data": {
      "text/plain": [
       "3"
      ]
     },
     "execution_count": 35,
     "metadata": {},
     "output_type": "execute_result"
    }
   ],
   "source": [
    "m.test_custome(8)  #here we are accessing variable of parent class"
   ]
  },
  {
   "cell_type": "code",
   "execution_count": 36,
   "metadata": {},
   "outputs": [],
   "source": [
    "#here we are able to recall a objbect from parent class.\n",
    "#we have to intialise init of parent class to access its variables in child class"
   ]
  },
  {
   "cell_type": "code",
   "execution_count": 37,
   "metadata": {},
   "outputs": [
    {
     "data": {
      "text/plain": [
       "7"
      ]
     },
     "execution_count": 37,
     "metadata": {},
     "output_type": "execute_result"
    }
   ],
   "source": [
    "m.c"
   ]
  },
  {
   "cell_type": "code",
   "execution_count": 38,
   "metadata": {},
   "outputs": [
    {
     "data": {
      "text/plain": [
       "8"
      ]
     },
     "execution_count": 38,
     "metadata": {},
     "output_type": "execute_result"
    }
   ],
   "source": [
    "m.d"
   ]
  },
  {
   "cell_type": "markdown",
   "metadata": {},
   "source": [
    "Types of inheritance:"
   ]
  },
  {
   "cell_type": "markdown",
   "metadata": {},
   "source": [
    "A, A' are parent class. B,C child class. <br>\n",
    "(1) one to one  (A  --> B) <br>\n",
    "(2) Many to one (A, A' --> B) <br>\n",
    "(3) One to many  ( A --> B, C)<br>\n",
    "(4) Hierarchial   ( A -->B --> C) <br>"
   ]
  },
  {
   "cell_type": "markdown",
   "metadata": {},
   "source": [
    "TASK: <br>\n",
    "create a 2 class Test, Test1 and inherit these 2 classes into class test2.<br>\n",
    "INdside both classes test & test1 create a fucntion a() and give different return. Class test2 inherit both classes."
   ]
  },
  {
   "cell_type": "code",
   "execution_count": 2,
   "metadata": {},
   "outputs": [
    {
     "name": "stdout",
     "output_type": "stream",
     "text": [
      "this is class test \n",
      "this is class test1 \n",
      "test2 class\n"
     ]
    }
   ],
   "source": [
    "class test:\n",
    "    def a(self):\n",
    "        print(\"this is class test \")\n",
    "class test1:\n",
    "    def a(self):\n",
    "        print(\"this is class test1 \")\n",
    "class test2(test, test1):\n",
    "    t=test()\n",
    "    t.a()\n",
    "    t1=test1()\n",
    "    t1.a()\n",
    "    print(\"test2 class\")\n",
    "t2=test2()\n"
   ]
  },
  {
   "cell_type": "code",
   "execution_count": 5,
   "metadata": {},
   "outputs": [
    {
     "name": "stdout",
     "output_type": "stream",
     "text": [
      "this is class test \n",
      "this is class test1 \n",
      "test2 class\n"
     ]
    }
   ],
   "source": [
    "\n",
    "class test:\n",
    "    def a(self):\n",
    "        print(\"this is class test \")\n",
    "class test1:\n",
    "    def a(self):\n",
    "        print(\"this is class test1 \")\n",
    "class test2(): #implementing without inheritance, this will give ciorrect output but approach is wromg\n",
    "             #hence this is mistake\n",
    "    t=test()\n",
    "    t.a()\n",
    "    t1=test1()\n",
    "    t1.a()\n",
    "    print(\"test2 class\")\n",
    "t2=test2()\n"
   ]
  },
  {
   "cell_type": "code",
   "execution_count": null,
   "metadata": {},
   "outputs": [],
   "source": [
    "#RONG CODE\n",
    "\"\"\" class test:\n",
    "    def __init__(self):\n",
    "        pass\n",
    "    def a(self):\n",
    "        return \"This belongs to test.\"\n",
    "        \n",
    "class test1:\n",
    "    def __init__(self):\n",
    "        pass\n",
    "    def a(self):\n",
    "        return \"This belongs to test1.\"\n",
    "class test2(test,test1):\n",
    "        def __init__(self):\n",
    "            pass\n",
    "            \n",
    "o = test2()\n",
    "print(o.a())\n",
    "print(o.a()) \"\"\"\n"
   ]
  },
  {
   "cell_type": "code",
   "execution_count": 9,
   "metadata": {},
   "outputs": [
    {
     "name": "stdout",
     "output_type": "stream",
     "text": [
      "function a from class test\n",
      "function a from class test 1\n"
     ]
    }
   ],
   "source": [
    "class test:\n",
    "    \n",
    "    def a(self):\n",
    "        print('function a from class test')\n",
    "\n",
    "class test1:\n",
    "    def a(self):\n",
    "        print('function a from class test 1')\n",
    "\n",
    "class test2():\n",
    "    def a(self):\n",
    "        test.a(self)\n",
    "        test1.a(self)\n",
    "        \n",
    "t = test2()\n",
    "t.a()\n"
   ]
  },
  {
   "cell_type": "code",
   "execution_count": 10,
   "metadata": {},
   "outputs": [],
   "source": [
    "# Question: Multiple Inheritance is possible or Not ?"
   ]
  },
  {
   "cell_type": "code",
   "execution_count": 12,
   "metadata": {},
   "outputs": [
    {
     "name": "stdout",
     "output_type": "stream",
     "text": [
      "iNeuron Company was established in 2018\n"
     ]
    }
   ],
   "source": [
    "# Example of inheritance\n",
    "class Ineuron:\n",
    "    company_website = 'https://ineuron.ai/'\n",
    "    name = 'iNeuron'\n",
    " \n",
    "    def contact_details(self):\n",
    "        print('Contact us at ', self.company_website)\n",
    " \n",
    " \n",
    "class Datascience(Ineuron):\n",
    "    def __init__(self):\n",
    "        self.year_of_establishment= 2018\n",
    " \n",
    "    def est_details(self):\n",
    "        print('{0} Company was established in {1}'\n",
    "              .format(self.name,self.year_of_establishment)) \n",
    " #here name is taken from Ineuron class , Year of establishment from Data Science class\n",
    "#this is a example of inheritaance\n",
    "ds = Datascience()\n",
    "ds.est_details()"
   ]
  },
  {
   "cell_type": "code",
   "execution_count": 19,
   "metadata": {},
   "outputs": [
    {
     "name": "stdout",
     "output_type": "stream",
     "text": [
      "multi_task\n",
      "Name: sawan\n"
     ]
    }
   ],
   "source": [
    "#Example of multiple inheritance\n",
    "class OS:\n",
    "    multi_task = True\n",
    "    os_name = 'Windows OS'\n",
    "    name = \"sawan\"\n",
    " \n",
    " \n",
    "class windows(OS, Ineuron):\n",
    "    def __init__(self):\n",
    "        if self.multi_task is True:\n",
    "            print('multi_task') #multitask variableis in OS Class, inheritance\n",
    "        print('Name: {}'.format(self.name)) #from windows variable used from windows\n",
    "#we are able to do it withput super, i.e valuefrom both the variables\n",
    "#here we called Name of ineuron class but output is coming from OS class\n",
    " \n",
    " \n",
    "windows = windows()\n",
    " "
   ]
  },
  {
   "cell_type": "code",
   "execution_count": 23,
   "metadata": {},
   "outputs": [
    {
     "name": "stdout",
     "output_type": "stream",
     "text": [
      "multi_task\n",
      "Name: iNeuron\n"
     ]
    }
   ],
   "source": [
    "class windows(Ineuron,OS):\n",
    "    def __init__(self):\n",
    "        if self.multi_task is True:\n",
    "            print('multi_task') \n",
    "        print('Name: {}'.format(self.name))\n",
    "#here the prioity is given to the fist class as seen in output obtained i.e Ineuron\n",
    "windows= windows()"
   ]
  },
  {
   "cell_type": "code",
   "execution_count": 27,
   "metadata": {},
   "outputs": [
    {
     "name": "stdout",
     "output_type": "stream",
     "text": [
      "The company iNeuron offers total 12 different types of courses. Most trending course is Data-Science\n"
     ]
    }
   ],
   "source": [
    "#MULTI-LEVEL INHERITANCE\n",
    "class iNeuron:\n",
    "    num_of_courses = 12\n",
    " \n",
    " \n",
    "class Datascience(iNeuron):\n",
    "    course_type = 'Data-Science'\n",
    " \n",
    " \n",
    "class AI(Datascience):\n",
    "    def __init__(self):\n",
    "        self.company = \"iNeuron\"\n",
    "        print('The company {0} offers total {1} different types of courses. Most trending course is {2}'.format(self.company,self.num_of_courses,self.course_type))\n",
    " \n",
    " \n",
    "AI = AI()\n",
    "#AI inherits DataSci class, and DataSCI class inherits from iNEURON"
   ]
  },
  {
   "cell_type": "markdown",
   "metadata": {},
   "source": [
    "#### ENCAPSULATION"
   ]
  },
  {
   "cell_type": "markdown",
   "metadata": {},
   "source": [
    "Inheritance is basically utlising code without re-wrting it again.<br>\n",
    "Encapsulation is way to extend a class in sucha a way that it involves wrapping of the object.Here we will utilise the variable in a different way, we will implement inheritance but will not show/expose to you.i.e implemeting concepts of inheritance and trying to hide this impleenatation part."
   ]
  },
  {
   "cell_type": "code",
   "execution_count": null,
   "metadata": {},
   "outputs": [],
   "source": []
  },
  {
   "cell_type": "code",
   "execution_count": 8,
   "metadata": {},
   "outputs": [],
   "source": [
    "class test:\n",
    "    def __init__(self, a,b,c):\n",
    "        self.a =a \n",
    "        self.b = b\n",
    "        self.c = c \n",
    "        \n",
    "    def __str__(self):\n",
    "        return \"(A) this is the return form my test class \"\n",
    "\n",
    "    \n",
    "class test1 :\n",
    "    def __init__(self, a,b,c):\n",
    "        self.a =a \n",
    "        self.b = b\n",
    "        self.c = c \n",
    "        \n",
    "    def __str__(self):\n",
    "        return \"(B) this is the return form my test1 class \"\n",
    "    \n",
    "class test2:\n",
    "    \n",
    "    def __init__(self, a,b,c):\n",
    "        self.a = a \n",
    "        self.b = b\n",
    "        self.c = c \n",
    "        \n",
    "    def __str__(self):\n",
    "        return \"(C) this is the return form my test2 class \"\n",
    "\n",
    "class final:\n",
    "    \n",
    "    def __init__(self,x,y,z):\n",
    "        self.x= x\n",
    "        self.y= y\n",
    "        self.z = z\n",
    "        \n",
    "    def __str__(self) : \n",
    "        \n",
    "        return str(self.x) + \"  \" + str(self.y) + \"  \" + str(self.z)\n"
   ]
  },
  {
   "cell_type": "code",
   "execution_count": 9,
   "metadata": {},
   "outputs": [],
   "source": [
    "t= test(4,5,6)\n",
    "t1 = test1(3,4,5)\n",
    "t2 = test2(5,6,7)\n",
    "f = final(t,t1,\"(D) sawan\")\n"
   ]
  },
  {
   "cell_type": "code",
   "execution_count": 7,
   "metadata": {},
   "outputs": [
    {
     "name": "stdout",
     "output_type": "stream",
     "text": [
      "this is the return form my test class   this is the return form my test1 class   sawan\n"
     ]
    }
   ],
   "source": [
    "print(f)"
   ]
  },
  {
   "cell_type": "markdown",
   "metadata": {},
   "source": [
    "Types of Encapsulation: <br>\n",
    "\n",
    "(a) Compostion Encapsulation <br>\n",
    "\n",
    "(b) Dynamic Encapsulation <br>"
   ]
  },
  {
   "cell_type": "code",
   "execution_count": null,
   "metadata": {},
   "outputs": [],
   "source": []
  },
  {
   "cell_type": "markdown",
   "metadata": {},
   "source": [
    "INHERITANCE USING SQL"
   ]
  },
  {
   "cell_type": "code",
   "execution_count": 29,
   "metadata": {},
   "outputs": [],
   "source": [
    "#EXAMPLE OF INHERITANCE using SQL (to be dsicussed after SQL)\n",
    "\n",
    "import sqlite3\n",
    "\n",
    "class DataBaseOperations:\n",
    "\n",
    "    def __init__(self,databasename):\n",
    "        \n",
    "        self.databasename = databasename\n",
    "\n",
    "    def createDatabase(self):\n",
    "        try:\n",
    "            conn = sqlite3.connect(self.databasename)\n",
    "        except ConnectionError:\n",
    "            raise ConnectionError\n",
    "        return conn\n",
    "\n",
    "    def createTable(self,tablename,dictionaryOfcolumnNamesAndcolumnDatatypes):\n",
    "        try:\n",
    "            conn = self.createDatabase()\n",
    "            c = conn.cursor()\n",
    "            for key in dictionaryOfcolumnNamesAndcolumnDatatypes.keys():\n",
    "                datatype = dictionaryOfcolumnNamesAndcolumnDatatypes[key]\n",
    "                try:\n",
    "                    conn.execute(\n",
    "                        'ALTER TABLE {tableName} ADD COLUMN \"{column_name}\" {dataType}'.format(tableName=tablename,\n",
    "                                                                                               column_name=key,\n",
    "                                                                                               dataType=datatype))\n",
    "                except:\n",
    "                    conn.execute('CREATE TABLE {tableName} ({column_name} {dataType})'.format(tableName=tablename,\n",
    "                                                                                              column_name=key,\n",
    "                                                                                              dataType=datatype))\n",
    "            print(\"Table {0} created in database {1}\".format(tablename,self.databasename))\n",
    "            self.closeDbConnection(conn)\n",
    "            print(\"Connection to database closed!!\")\n",
    "        except Exception as e:\n",
    "            conn.rollback()\n",
    "            self.closeDbConnection(conn)\n",
    "            print(\"Connection to database closed!!\")\n",
    "\n",
    "            print(\"Exception occured: \" + str(e))\n",
    "\n",
    "    def insertIntoTable(self,tablename, listOfvaluesToInsert):\n",
    "        try:\n",
    "            conn = self.createDatabase()\n",
    "            conn.execute('INSERT INTO {tablename}  values ({values})'.format(tablename = tablename,values=(listOfvaluesToInsert)))\n",
    "            conn.commit()\n",
    "            print(\"Values Inserted Successfully!!!\")\n",
    "            self.closeDbConnection(conn)\n",
    "            print(\"Connection to database closed!!\")\n",
    "        except Exception as e:\n",
    "            conn.rollback()\n",
    "            self.closeDbConnection(conn)\n",
    "            print(\"Connection to database closed!!\")\n",
    "            print(\"Error occured: \" + str(e))\n",
    "\n",
    "        # self.closeDbconnection()\n",
    "    \n",
    "    def selectFromTable(self,tablename):\n",
    "\n",
    "        try:\n",
    "            conn = self.createDatabase()\n",
    "            c = conn.cursor()\n",
    "            c.execute(\"SELECT *  FROM {table}\".format(table=tablename))\n",
    "            print(\"values in table : \" ,c.fetchall())\n",
    "            self.closeDbConnection(conn)\n",
    "            print(\"Connection to database closed!!\")\n",
    "            \n",
    "        except Exception as e:\n",
    "            self.closeDbConnection(conn)\n",
    "            print(\"Connection to database closed!!\")\n",
    "            print(\"Error occured: \" + str(e))\n",
    "    \n",
    "    def closeDbConnection(self,connection):\n",
    "       \n",
    "        connection.close()"
   ]
  },
  {
   "cell_type": "code",
   "execution_count": 30,
   "metadata": {},
   "outputs": [],
   "source": [
    "class StudentMarks(DataBaseOperations): # inheriting the DatabaseOperation class\n",
    "    \n",
    "    def __init__ (self, ID, RollNumber, Marks):\n",
    "        \n",
    "        self.id= ID\n",
    "        self.RollNum = RollNumber\n",
    "        self.Marks = Marks\n",
    "        self.databasename = \"StudentDetails\""
   ]
  },
  {
   "cell_type": "code",
   "execution_count": 31,
   "metadata": {},
   "outputs": [],
   "source": [
    "student1 = StudentMarks(23,34,76)"
   ]
  },
  {
   "cell_type": "code",
   "execution_count": 32,
   "metadata": {},
   "outputs": [
    {
     "data": {
      "text/plain": [
       "<sqlite3.Connection at 0x1ebc6a827b0>"
      ]
     },
     "execution_count": 32,
     "metadata": {},
     "output_type": "execute_result"
    }
   ],
   "source": [
    "student1.createDatabase()"
   ]
  },
  {
   "cell_type": "code",
   "execution_count": null,
   "metadata": {},
   "outputs": [],
   "source": []
  },
  {
   "cell_type": "code",
   "execution_count": null,
   "metadata": {},
   "outputs": [],
   "source": []
  },
  {
   "cell_type": "code",
   "execution_count": null,
   "metadata": {},
   "outputs": [],
   "source": []
  },
  {
   "cell_type": "markdown",
   "metadata": {},
   "source": [
    "##  THANK YOU"
   ]
  }
 ],
 "metadata": {
  "kernelspec": {
   "display_name": "Python 3",
   "language": "python",
   "name": "python3"
  },
  "language_info": {
   "codemirror_mode": {
    "name": "ipython",
    "version": 3
   },
   "file_extension": ".py",
   "mimetype": "text/x-python",
   "name": "python",
   "nbconvert_exporter": "python",
   "pygments_lexer": "ipython3",
   "version": "3.8.5"
  }
 },
 "nbformat": 4,
 "nbformat_minor": 4
}
