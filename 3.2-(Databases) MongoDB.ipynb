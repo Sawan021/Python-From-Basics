{
 "cells": [
  {
   "cell_type": "markdown",
   "metadata": {},
   "source": [
    "MongoDB is an open source NoSQL (means not only SQL) database management program. NoSQL is used as an alternative to traditional relational databases. NoSQL databases are quite useful for working with large sets of distribute"
   ]
  },
  {
   "cell_type": "markdown",
   "metadata": {},
   "source": [
    "MongoDB is a tool that can manage document-oriented information, store or \n",
    "retrieve information. \n",
    "<br> 1.In case of distributed systems, it is easier to scale.\n",
    "<br> 2.We dont have to create a predefined schema(table)\n",
    "<br> 3.Document or insertion is easier"
   ]
  },
  {
   "cell_type": "markdown",
   "metadata": {},
   "source": [
    "Installation: MongoDB community server edition"
   ]
  },
  {
   "cell_type": "code",
   "execution_count": 1,
   "metadata": {},
   "outputs": [
    {
     "name": "stdout",
     "output_type": "stream",
     "text": [
      "Requirement already satisfied: pymongo in c:\\users\\hp\\anaconda3\\lib\\site-packages (4.2.0)\n"
     ]
    }
   ],
   "source": [
    "!python -m pip install pymongo"
   ]
  },
  {
   "cell_type": "markdown",
   "metadata": {},
   "source": [
    "In case of mongoDB we try to create a collection (similar to databse in SQL)"
   ]
  },
  {
   "cell_type": "code",
   "execution_count": 3,
   "metadata": {},
   "outputs": [
    {
     "data": {
      "text/plain": [
       "MongoClient(host=['localhost:27017'], document_class=dict, tz_aware=False, connect=True)"
      ]
     },
     "execution_count": 3,
     "metadata": {},
     "output_type": "execute_result"
    }
   ],
   "source": [
    "import pymongo\n",
    "client = pymongo.MongoClient(\"mongodb://localhost:27017/\")\n",
    "client"
   ]
  },
  {
   "cell_type": "code",
   "execution_count": 4,
   "metadata": {},
   "outputs": [],
   "source": [
    "db_1=client[\"Sawan_K_MongoDB\"]"
   ]
  },
  {
   "cell_type": "code",
   "execution_count": 5,
   "metadata": {},
   "outputs": [
    {
     "data": {
      "text/plain": [
       "['Sawan_K_MongoDB', 'admin', 'config', 'local']"
      ]
     },
     "execution_count": 5,
     "metadata": {},
     "output_type": "execute_result"
    }
   ],
   "source": [
    "client.list_database_names()"
   ]
  },
  {
   "cell_type": "markdown",
   "metadata": {},
   "source": [
    "these are the databses available currently"
   ]
  },
  {
   "cell_type": "code",
   "execution_count": 23,
   "metadata": {},
   "outputs": [
    {
     "data": {
      "text/plain": [
       "Database(MongoClient(host=['localhost:27017'], document_class=dict, tz_aware=False, connect=True), 'Sawan_K_MongoDB')"
      ]
     },
     "execution_count": 23,
     "metadata": {},
     "output_type": "execute_result"
    }
   ],
   "source": [
    "db_1"
   ]
  },
  {
   "cell_type": "code",
   "execution_count": 7,
   "metadata": {},
   "outputs": [
    {
     "data": {
      "text/plain": [
       "Collection(Database(MongoClient(host=['localhost:27017'], document_class=dict, tz_aware=False, connect=True), 'Sawan_K_MongoDB'), 'test')"
      ]
     },
     "execution_count": 7,
     "metadata": {},
     "output_type": "execute_result"
    }
   ],
   "source": [
    "collection= db_1[\"test\"]\n",
    "collection"
   ]
  },
  {
   "cell_type": "markdown",
   "metadata": {},
   "source": []
  },
  {
   "cell_type": "code",
   "execution_count": 9,
   "metadata": {},
   "outputs": [
    {
     "data": {
      "text/plain": [
       "<pymongo.results.InsertOneResult at 0x27b8d50ddc0>"
      ]
     },
     "execution_count": 9,
     "metadata": {},
     "output_type": "execute_result"
    }
   ],
   "source": [
    "record = {'companyName': 'iNeuronAI',\n",
    "         'product': 'Affordable AI',\n",
    "         'courseOffered': 'Data science learning',\n",
    "         'name' : [\"Sawan\",\"kumar\",5466],\n",
    "         \"record_dict\" :{\"name\" :\"sawan\" , \"mail_id\" : \"sawan@fadfsaf.ai\",\"ph_number\" :543535}}\n",
    "collection.insert_one(record)"
   ]
  },
  {
   "cell_type": "markdown",
   "metadata": {},
   "source": [
    "NOTE: Collection is a set of heterogeneous data where as Table is entity which has structured data."
   ]
  },
  {
   "cell_type": "markdown",
   "metadata": {},
   "source": [
    "INSERTION OF MULTIPLE RECORDS"
   ]
  },
  {
   "cell_type": "code",
   "execution_count": 16,
   "metadata": {},
   "outputs": [],
   "source": [
    "list_of_records = [\n",
    "        {'companyName': 'iNeuronAI',\n",
    "         'product': 'Affordable AI',\n",
    "         'courseOffered': 'Data science learning'},\n",
    "        \n",
    "         {'companyName': 'iNeuronAI',\n",
    "         'product': 'Affordable AI',\n",
    "         'courseOffered': 'Data science learning'},\n",
    "        \n",
    "         {'companyName': 'iNeuronAI',\n",
    "         'product': 'Affordable AI',\n",
    "         'courseOffered': 'Data science learning',\n",
    "         \"test\": \"fdjfhdjbfodkn\",\n",
    "         \"complex\":[{\"name\":\"Sawan\",\"list\":[4,5,6,3,7,8]},{\"email\":\"saoiuasj@gmail.com\"},{\"phoneNO\":8987654}]   }\n",
    "]\n",
    "\n",
    "rec = collection.insert_many(list_of_records)"
   ]
  },
  {
   "cell_type": "code",
   "execution_count": 18,
   "metadata": {},
   "outputs": [
    {
     "name": "stdout",
     "output_type": "stream",
     "text": [
      "0.630deb97f36583f8041c54b9 \n",
      "1.630deb97f36583f8041c54ba \n",
      "2.630deb97f36583f8041c54bb \n"
     ]
    }
   ],
   "source": [
    "#lets print the unique ID that of the record that we are have inserted\n",
    "inserted_IDs=rec.inserted_ids\n",
    "\n",
    "for idx, unique_ids in enumerate (inserted_IDs):\n",
    "    print(f\"{idx}.{unique_ids} \")"
   ]
  },
  {
   "cell_type": "code",
   "execution_count": null,
   "metadata": {},
   "outputs": [],
   "source": [
    "students = db_1[\"DataSci_STUDENTS\"]\n",
    "\n",
    "list_of_records_user_defined_id = [\n",
    "    {\"_id\": \"6\",\n",
    "    \"companyName\": \"iNeuron\",\n",
    "    \"student\": \"Sawan Kumar\"},\n",
    "    {\"_id\": \"8\",\n",
    "    \"companyName\": \"iNeuron\",\n",
    "    \"student\": \"Rahul Nagar\"},\n",
    "]\n",
    "\n",
    "students_record = students.insert_many(list_of_records_user_defined_id)"
   ]
  },
  {
   "cell_type": "markdown",
   "metadata": {},
   "source": [
    "Find method in MONGO DB"
   ]
  },
  {
   "cell_type": "code",
   "execution_count": 38,
   "metadata": {},
   "outputs": [
    {
     "name": "stdout",
     "output_type": "stream",
     "text": [
      "The first record of collection: \n",
      "DataSci_STUDENTS is=\n",
      "{'_id': '1', 'companyName': 'iNeuron', 'student': 'Sawan Kumar'}\n"
     ]
    }
   ],
   "source": [
    "find_first_record = students.find_one()\n",
    "\n",
    "print(f\"The first record of collection: \\n{'DataSci_STUDENTS'} is=\\\n",
    "\\n{find_first_record}\")"
   ]
  },
  {
   "cell_type": "code",
   "execution_count": 39,
   "metadata": {},
   "outputs": [
    {
     "data": {
      "text/plain": [
       "{'_id': '1', 'companyName': 'iNeuron', 'student': 'Sawan Kumar'}"
      ]
     },
     "execution_count": 39,
     "metadata": {},
     "output_type": "execute_result"
    }
   ],
   "source": [
    "students.find_one()"
   ]
  },
  {
   "cell_type": "code",
   "execution_count": 41,
   "metadata": {},
   "outputs": [
    {
     "data": {
      "text/plain": [
       "{'_id': ObjectId('630c81d7ee7f87d271a1bd4f'),\n",
       " 'companyName': 'iNeuronAI',\n",
       " 'product': 'Affordable AI',\n",
       " 'courseOffered': 'Deep Learning for Computer Vision',\n",
       " 'name': ['Sawan', 'kumar', 5466],\n",
       " 'record_dict': {'name': 'sudhanshu',\n",
       "  'mail_id': 'sudhanshu@fadfsaf.ai',\n",
       "  'ph_number': 543535}}"
      ]
     },
     "execution_count": 41,
     "metadata": {},
     "output_type": "execute_result"
    }
   ],
   "source": [
    "collection.find_one()"
   ]
  },
  {
   "cell_type": "code",
   "execution_count": 42,
   "metadata": {},
   "outputs": [
    {
     "data": {
      "text/plain": [
       "<pymongo.cursor.Cursor at 0x1f81dfacd60>"
      ]
     },
     "execution_count": 42,
     "metadata": {},
     "output_type": "execute_result"
    }
   ],
   "source": [
    "students.find()"
   ]
  },
  {
   "cell_type": "code",
   "execution_count": 43,
   "metadata": {},
   "outputs": [
    {
     "name": "stdout",
     "output_type": "stream",
     "text": [
      "{'_id': '1', 'companyName': 'iNeuron', 'student': 'Sawan Kumar'}\n",
      "{'_id': '2', 'companyName': 'iNeuron', 'student': 'Rahul Nagar'}\n",
      "{'_id': '6', 'companyName': 'iNeuron', 'student': 'Sawan Kumar'}\n",
      "{'_id': '8', 'companyName': 'iNeuron', 'student': 'Rahul Nagar'}\n"
     ]
    }
   ],
   "source": [
    "for i in students.find():\n",
    "    print(i)"
   ]
  },
  {
   "cell_type": "code",
   "execution_count": 44,
   "metadata": {},
   "outputs": [
    {
     "name": "stdout",
     "output_type": "stream",
     "text": [
      "0: {'_id': '1', 'companyName': 'iNeuron', 'student': 'Sawan Kumar'}\n",
      "1: {'_id': '2', 'companyName': 'iNeuron', 'student': 'Rahul Nagar'}\n",
      "2: {'_id': '6', 'companyName': 'iNeuron', 'student': 'Sawan Kumar'}\n",
      "3: {'_id': '8', 'companyName': 'iNeuron', 'student': 'Rahul Nagar'}\n"
     ]
    }
   ],
   "source": [
    "# find all the record at once present in thr record with all the fields\n",
    "all_record = faculties.find()\n",
    "\n",
    "for idx, record in enumerate(all_record):\n",
    "    print(f\"{idx}: {record}\")"
   ]
  },
  {
   "cell_type": "markdown",
   "metadata": {},
   "source": [
    "Queries based on condition"
   ]
  },
  {
   "cell_type": "code",
   "execution_count": 55,
   "metadata": {},
   "outputs": [
    {
     "name": "stdout",
     "output_type": "stream",
     "text": [
      "{'_id': '6', 'companyName': 'iNeuron', 'student': 'Sawan Kumar'}\n"
     ]
    }
   ],
   "source": [
    "for i in students.find({\"_id\":'6'}):\n",
    "    print(i)"
   ]
  },
  {
   "cell_type": "markdown",
   "metadata": {},
   "source": [
    "query1={\"_id\":\"1\"}\n",
    "\n",
    "results =students.find(query1)\n",
    "for data in results:\n",
    "    print(data)"
   ]
  },
  {
   "cell_type": "code",
   "execution_count": 52,
   "metadata": {},
   "outputs": [
    {
     "name": "stdout",
     "output_type": "stream",
     "text": [
      "{'_id': '2', 'companyName': 'iNeuron', 'student': 'Rahul Nagar'}\n",
      "{'_id': '6', 'companyName': 'iNeuron', 'student': 'Sawan Kumar'}\n",
      "{'_id': '8', 'companyName': 'iNeuron', 'student': 'Rahul Nagar'}\n"
     ]
    }
   ],
   "source": [
    "query2 = {\"_id\": {\"$gt\": \"1\"}}\n",
    "\n",
    "results = students.find(query2)\n",
    "for data in results:\n",
    "    print(data)"
   ]
  },
  {
   "cell_type": "markdown",
   "metadata": {},
   "source": [
    "DELETING RECORDS"
   ]
  },
  {
   "cell_type": "code",
   "execution_count": 56,
   "metadata": {},
   "outputs": [
    {
     "data": {
      "text/plain": [
       "<pymongo.results.InsertManyResult at 0x1f81deea070>"
      ]
     },
     "execution_count": 56,
     "metadata": {},
     "output_type": "execute_result"
    }
   ],
   "source": [
    "# Lets add some random data in faculties\n",
    "random_data = [\n",
    "    {'_id': '3', 'companyName': 'iNeuron', 'student': 'XYZ'},\n",
    "    {'_id': '4', 'companyName': 'iNeuron', 'student': 'ABC'},\n",
    "    {'_id': '5', 'companyName': 'iNeuron', 'student': 'PQR'},\n",
    "]\n",
    "\n",
    "faculties.insert_many(random_data)"
   ]
  },
  {
   "cell_type": "markdown",
   "metadata": {},
   "source": [
    "UPDATING RECORDS"
   ]
  },
  {
   "cell_type": "code",
   "execution_count": 58,
   "metadata": {},
   "outputs": [],
   "source": [
    "students = db_1[\"DataSci_STUDENTS_DUMMY\"]\n",
    "\n",
    "list_of_records_user_defined_id = [\n",
    "    {\"_id\": \"2\",\n",
    "    \"companyName\": \"iNeuron\",\n",
    "    \"student\": \"Sawan Kumar\"},\n",
    "    {\"_id\": \"4\",\n",
    "    \"companyName\": \"iNeuron\",\n",
    "    \"student\": \"Rahul Nagar\"},\n",
    "]\n",
    "\n",
    "students_record = students.insert_many(list_of_records_user_defined_id)"
   ]
  },
  {
   "cell_type": "code",
   "execution_count": 62,
   "metadata": {},
   "outputs": [
    {
     "name": "stdout",
     "output_type": "stream",
     "text": [
      "{'_id': '2', 'companyName': 'iNeuron', 'student': 'Sawan Kumar'}\n",
      "\n",
      "{'_id': '4', 'companyName': 'iNeuron', 'student': 'Rahul Nagar'}\n",
      "\n"
     ]
    }
   ],
   "source": [
    "COLLECTION_NAME = \"DataSci_STUDENTS_DUMMY\"\n",
    "\n",
    "products = db_1[COLLECTION_NAME]\n",
    "\n",
    "all_record = products.find()\n",
    "\n",
    "for idx, record in enumerate(all_record):\n",
    "    print(f\"{record}\\n\")"
   ]
  },
  {
   "cell_type": "code",
   "execution_count": null,
   "metadata": {},
   "outputs": [],
   "source": []
  },
  {
   "cell_type": "markdown",
   "metadata": {},
   "source": [
    "## THANK YOU & kEEP LEARNING"
   ]
  }
 ],
 "metadata": {
  "kernelspec": {
   "display_name": "Python 3",
   "language": "python",
   "name": "python3"
  },
  "language_info": {
   "codemirror_mode": {
    "name": "ipython",
    "version": 3
   },
   "file_extension": ".py",
   "mimetype": "text/x-python",
   "name": "python",
   "nbconvert_exporter": "python",
   "pygments_lexer": "ipython3",
   "version": "3.8.5"
  }
 },
 "nbformat": 4,
 "nbformat_minor": 4
}
