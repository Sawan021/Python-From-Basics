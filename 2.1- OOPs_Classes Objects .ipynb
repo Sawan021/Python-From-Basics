{
 "cells": [
  {
   "cell_type": "markdown",
   "metadata": {},
   "source": [
    "# Object Oriented Programming (OOPs)"
   ]
  },
  {
   "cell_type": "markdown",
   "metadata": {},
   "source": [
    "OOPs is a way of writing code. Whenver codes are very long in production phase then there reusability would be tough, modularity will not be easy, integration will be tough. So we use various concepts of OOPs like polymorphism,inheritance, overloading etc."
   ]
  },
  {
   "cell_type": "markdown",
   "metadata": {},
   "source": [
    "TIP for INTERVIEW: Try to put your code in OOPs concepts if we are going for interview, bcz that looks inpressive instead of scripting."
   ]
  },
  {
   "cell_type": "markdown",
   "metadata": {},
   "source": [
    "Class is a classification or a separation of a real world entity."
   ]
  },
  {
   "cell_type": "markdown",
   "metadata": {},
   "source": [
    "Object is a real world entity which we willbe able to touch or feel. Object is basically a variable of a class."
   ]
  },
  {
   "cell_type": "markdown",
   "metadata": {},
   "source": [
    "e.g: a=5, b=7, c=\"sawan\", d=\"kumar\". Here a,b are object of integer class and c,d are object of string class."
   ]
  },
  {
   "cell_type": "code",
   "execution_count": 3,
   "metadata": {},
   "outputs": [],
   "source": [
    "class car :\n",
    "    pass  #when we dont expect body of a class"
   ]
  },
  {
   "cell_type": "code",
   "execution_count": 4,
   "metadata": {},
   "outputs": [],
   "source": [
    "audiq7=car()"
   ]
  },
  {
   "cell_type": "code",
   "execution_count": 6,
   "metadata": {},
   "outputs": [
    {
     "data": {
      "text/plain": [
       "<__main__.car at 0x20df12bb730>"
      ]
     },
     "execution_count": 6,
     "metadata": {},
     "output_type": "execute_result"
    }
   ],
   "source": [
    "audiq7"
   ]
  },
  {
   "cell_type": "code",
   "execution_count": 7,
   "metadata": {},
   "outputs": [],
   "source": [
    "audiq7.mileage=10\n",
    "audiq7.year=2020\n",
    "audiq7.make=345\n",
    "audiq7.model=\"dsd\""
   ]
  },
  {
   "cell_type": "code",
   "execution_count": 8,
   "metadata": {},
   "outputs": [
    {
     "data": {
      "text/plain": [
       "10"
      ]
     },
     "execution_count": 8,
     "metadata": {},
     "output_type": "execute_result"
    }
   ],
   "source": [
    "audiq7.mileage"
   ]
  },
  {
   "cell_type": "code",
   "execution_count": 9,
   "metadata": {},
   "outputs": [
    {
     "ename": "NameError",
     "evalue": "name 'mileage' is not defined",
     "output_type": "error",
     "traceback": [
      "\u001b[1;31m---------------------------------------------------------------------------\u001b[0m",
      "\u001b[1;31mNameError\u001b[0m                                 Traceback (most recent call last)",
      "\u001b[1;32m<ipython-input-9-5abc9a0bf052>\u001b[0m in \u001b[0;36m<module>\u001b[1;34m\u001b[0m\n\u001b[1;32m----> 1\u001b[1;33m \u001b[0mmileage\u001b[0m\u001b[1;33m\u001b[0m\u001b[1;33m\u001b[0m\u001b[0m\n\u001b[0m",
      "\u001b[1;31mNameError\u001b[0m: name 'mileage' is not defined"
     ]
    }
   ],
   "source": [
    "mileage"
   ]
  },
  {
   "cell_type": "code",
   "execution_count": 10,
   "metadata": {},
   "outputs": [],
   "source": [
    "#complete caribale name is required for a class object."
   ]
  },
  {
   "cell_type": "code",
   "execution_count": 11,
   "metadata": {},
   "outputs": [],
   "source": [
    "nano= car()"
   ]
  },
  {
   "cell_type": "code",
   "execution_count": 12,
   "metadata": {},
   "outputs": [],
   "source": [
    "nano.mileage=20\n",
    "nano.year=2010\n",
    "nano.make=349\n",
    "nano.model=\"erd\"\n",
    "nano.engineno=465768"
   ]
  },
  {
   "cell_type": "code",
   "execution_count": 13,
   "metadata": {},
   "outputs": [
    {
     "data": {
      "text/plain": [
       "349"
      ]
     },
     "execution_count": 13,
     "metadata": {},
     "output_type": "execute_result"
    }
   ],
   "source": [
    "nano.make"
   ]
  },
  {
   "cell_type": "code",
   "execution_count": 14,
   "metadata": {},
   "outputs": [
    {
     "name": "stdout",
     "output_type": "stream",
     "text": [
      "20 349\n"
     ]
    }
   ],
   "source": [
    "print(nano.mileage, nano.make)"
   ]
  },
  {
   "cell_type": "markdown",
   "metadata": {},
   "source": [
    "in above approach we have no defined the body of a class , so we are writing it again and again. Here we are not reusabilit of code.\n",
    "and here we can use different approach using fucntions."
   ]
  },
  {
   "cell_type": "code",
   "execution_count": 16,
   "metadata": {},
   "outputs": [],
   "source": [
    "class car:\n",
    "    def __init__ (self, milage, year, make,model):\n",
    "        self.milage= milage\n",
    "        self.year= year\n",
    "        self.make=make\n",
    "        self.model= model\n"
   ]
  },
  {
   "cell_type": "code",
   "execution_count": 17,
   "metadata": {},
   "outputs": [],
   "source": [
    "#init is inbulilt function to create inttialisation \n",
    "#self is aparameter, init is provider of data to a class, i.e how we interact with a class\n",
    "# self is a pointer poiting to itself.\n",
    "#"
   ]
  },
  {
   "cell_type": "code",
   "execution_count": 18,
   "metadata": {},
   "outputs": [
    {
     "ename": "TypeError",
     "evalue": "__init__() missing 4 required positional arguments: 'milage', 'year', 'make', and 'model'",
     "output_type": "error",
     "traceback": [
      "\u001b[1;31m---------------------------------------------------------------------------\u001b[0m",
      "\u001b[1;31mTypeError\u001b[0m                                 Traceback (most recent call last)",
      "\u001b[1;32m<ipython-input-18-5daf26b3fbd5>\u001b[0m in \u001b[0;36m<module>\u001b[1;34m\u001b[0m\n\u001b[1;32m----> 1\u001b[1;33m \u001b[0mnano1\u001b[0m\u001b[1;33m=\u001b[0m\u001b[0mcar\u001b[0m\u001b[1;33m(\u001b[0m\u001b[1;33m)\u001b[0m\u001b[1;33m\u001b[0m\u001b[1;33m\u001b[0m\u001b[0m\n\u001b[0m",
      "\u001b[1;31mTypeError\u001b[0m: __init__() missing 4 required positional arguments: 'milage', 'year', 'make', and 'model'"
     ]
    }
   ],
   "source": [
    "nano1=car()"
   ]
  },
  {
   "cell_type": "code",
   "execution_count": 21,
   "metadata": {},
   "outputs": [],
   "source": [
    "nano1=car(20,2020,245,\"25fdx\")\n",
    "audiq7=car(23,2019,343,\"etrf34\")"
   ]
  },
  {
   "cell_type": "code",
   "execution_count": 22,
   "metadata": {},
   "outputs": [],
   "source": [
    "#here init is class intialisation , assiging values from left to right \n",
    "#i.e milage=20, year=2020, make=245, model=\"25fdx\"\n"
   ]
  },
  {
   "cell_type": "code",
   "execution_count": 23,
   "metadata": {},
   "outputs": [
    {
     "data": {
      "text/plain": [
       "'25fdx'"
      ]
     },
     "execution_count": 23,
     "metadata": {},
     "output_type": "execute_result"
    }
   ],
   "source": [
    "nano1.model"
   ]
  },
  {
   "cell_type": "code",
   "execution_count": 24,
   "metadata": {},
   "outputs": [
    {
     "name": "stdout",
     "output_type": "stream",
     "text": [
      "model no for your car is 25fdx\n"
     ]
    }
   ],
   "source": [
    "print(\"model no for your car is\", nano1.model)"
   ]
  },
  {
   "cell_type": "code",
   "execution_count": 25,
   "metadata": {},
   "outputs": [],
   "source": [
    "nano1=car(20,2020,2645,\"25fdutkfx\")\n",
    "audiq71=car(23,2019,3643,\"etrchf34\")\n",
    "nano2=car(20,2020,2475,\"25fqedx\")\n",
    "audiq72=car(23,2019,3743,\"etrcf34\")\n",
    "nano3=car(20,2020,2645,\"25fdox\")\n",
    "audiq73=car(23,2019,343,\"etrf34\")\n",
    "nano4=car(20,2020,2845,\"25fdx\")\n",
    "audiq74=car(23,2019,6343,\"etrfsfds34\")\n",
    "nano5=car(20,2020,2445,\"25fdx\")\n",
    "audiq75=car(23,2019,2343,\"etrf34\")"
   ]
  },
  {
   "cell_type": "code",
   "execution_count": 29,
   "metadata": {},
   "outputs": [],
   "source": [
    "#by default whatever will be the frist variable will be our defualt variable that wilk be utilised for intialisation\n",
    "class car:\n",
    "    def __init__ (milage, year, make,model):\n",
    "        self.milage= milage\n",
    "        self.year= year\n",
    "        self.make=make\n",
    "        self.model= model\n",
    "    #self is not a kwyword its just a convention to use it to provide simplicity & understanig universally"
   ]
  },
  {
   "cell_type": "code",
   "execution_count": 30,
   "metadata": {},
   "outputs": [],
   "source": [
    "class car:\n",
    "    def __init__ (a, milage, year, make,model):\n",
    "        a.milage= milage\n",
    "        a.year= year\n",
    "        a.make=make\n",
    "        a.model= model"
   ]
  },
  {
   "cell_type": "code",
   "execution_count": 31,
   "metadata": {},
   "outputs": [],
   "source": [
    "nano5=car(20,2020,2445,\"25fdx\")"
   ]
  },
  {
   "cell_type": "code",
   "execution_count": 32,
   "metadata": {},
   "outputs": [
    {
     "data": {
      "text/plain": [
       "20"
      ]
     },
     "execution_count": 32,
     "metadata": {},
     "output_type": "execute_result"
    }
   ],
   "source": [
    "nano5.milage"
   ]
  },
  {
   "cell_type": "code",
   "execution_count": 37,
   "metadata": {},
   "outputs": [],
   "source": [
    "class car:\n",
    "    def __init__ (a, mi, y, m,mo):\n",
    "        a.milage= m\n",
    "        a.year= y\n",
    "        a.make=ma\n",
    "        a.model= mo"
   ]
  },
  {
   "cell_type": "code",
   "execution_count": 34,
   "metadata": {},
   "outputs": [],
   "source": [
    "nano5=car(20,2020,2445,\"25fdx\")"
   ]
  },
  {
   "cell_type": "code",
   "execution_count": 38,
   "metadata": {},
   "outputs": [
    {
     "ename": "AttributeError",
     "evalue": "'car' object has no attribute 'm'",
     "output_type": "error",
     "traceback": [
      "\u001b[1;31m---------------------------------------------------------------------------\u001b[0m",
      "\u001b[1;31mAttributeError\u001b[0m                            Traceback (most recent call last)",
      "\u001b[1;32m<ipython-input-38-0d39b4d40899>\u001b[0m in \u001b[0;36m<module>\u001b[1;34m\u001b[0m\n\u001b[1;32m----> 1\u001b[1;33m \u001b[0mnano5\u001b[0m\u001b[1;33m.\u001b[0m\u001b[0mm\u001b[0m\u001b[1;33m\u001b[0m\u001b[1;33m\u001b[0m\u001b[0m\n\u001b[0m\u001b[0;32m      2\u001b[0m \u001b[1;31m#here m belongs to init function not the class directly. correct way is nano5.milage\u001b[0m\u001b[1;33m\u001b[0m\u001b[1;33m\u001b[0m\u001b[1;33m\u001b[0m\u001b[0m\n",
      "\u001b[1;31mAttributeError\u001b[0m: 'car' object has no attribute 'm'"
     ]
    }
   ],
   "source": [
    "nano5.m\n",
    "#here m belongs to init function not the class directly. correct way is nano5.milage"
   ]
  },
  {
   "cell_type": "code",
   "execution_count": 39,
   "metadata": {},
   "outputs": [
    {
     "data": {
      "text/plain": [
       "20"
      ]
     },
     "execution_count": 39,
     "metadata": {},
     "output_type": "execute_result"
    }
   ],
   "source": [
    "nano5.milage"
   ]
  },
  {
   "cell_type": "code",
   "execution_count": 44,
   "metadata": {},
   "outputs": [],
   "source": [
    "class car:\n",
    "    def __init__ (a, m, y, ma,mo):\n",
    "        a.milage= m\n",
    "        a.year= y\n",
    "        a.make=ma\n",
    "        a.model= mo\n",
    "        \n",
    "    def age(self,current_year):\n",
    "        return current_year -a.year   #here -a.year is pointer "
   ]
  },
  {
   "cell_type": "code",
   "execution_count": 45,
   "metadata": {},
   "outputs": [],
   "source": [
    "nano5=car(20,2020,2445,\"25fdx\")"
   ]
  },
  {
   "cell_type": "code",
   "execution_count": 47,
   "metadata": {},
   "outputs": [
    {
     "data": {
      "text/plain": [
       "<bound method car.age of <__main__.car object at 0x0000020DF22A08B0>>"
      ]
     },
     "execution_count": 47,
     "metadata": {},
     "output_type": "execute_result"
    }
   ],
   "source": [
    "nano5.age\n",
    "#here it means age is bound method associated to class"
   ]
  },
  {
   "cell_type": "code",
   "execution_count": 50,
   "metadata": {},
   "outputs": [
    {
     "ename": "NameError",
     "evalue": "name 'a' is not defined",
     "output_type": "error",
     "traceback": [
      "\u001b[1;31m---------------------------------------------------------------------------\u001b[0m",
      "\u001b[1;31mNameError\u001b[0m                                 Traceback (most recent call last)",
      "\u001b[1;32m<ipython-input-50-6f5bc63beb2c>\u001b[0m in \u001b[0;36m<module>\u001b[1;34m\u001b[0m\n\u001b[1;32m----> 1\u001b[1;33m \u001b[0mnano5\u001b[0m\u001b[1;33m.\u001b[0m\u001b[0mage\u001b[0m\u001b[1;33m(\u001b[0m\u001b[1;36m2021\u001b[0m\u001b[1;33m)\u001b[0m\u001b[1;33m\u001b[0m\u001b[1;33m\u001b[0m\u001b[0m\n\u001b[0m",
      "\u001b[1;32m<ipython-input-44-505a1a6b2927>\u001b[0m in \u001b[0;36mage\u001b[1;34m(self, current_year)\u001b[0m\n\u001b[0;32m      7\u001b[0m \u001b[1;33m\u001b[0m\u001b[0m\n\u001b[0;32m      8\u001b[0m     \u001b[1;32mdef\u001b[0m \u001b[0mage\u001b[0m\u001b[1;33m(\u001b[0m\u001b[0mself\u001b[0m\u001b[1;33m,\u001b[0m\u001b[0mcurrent_year\u001b[0m\u001b[1;33m)\u001b[0m\u001b[1;33m:\u001b[0m\u001b[1;33m\u001b[0m\u001b[1;33m\u001b[0m\u001b[0m\n\u001b[1;32m----> 9\u001b[1;33m         \u001b[1;32mreturn\u001b[0m \u001b[0mcurrent_year\u001b[0m \u001b[1;33m-\u001b[0m\u001b[0ma\u001b[0m\u001b[1;33m.\u001b[0m\u001b[0myear\u001b[0m   \u001b[1;31m#here -a.year is pointer\u001b[0m\u001b[1;33m\u001b[0m\u001b[1;33m\u001b[0m\u001b[0m\n\u001b[0m",
      "\u001b[1;31mNameError\u001b[0m: name 'a' is not defined"
     ]
    }
   ],
   "source": [
    "nano5.age(2021)"
   ]
  },
  {
   "cell_type": "code",
   "execution_count": 58,
   "metadata": {},
   "outputs": [],
   "source": [
    "class car:\n",
    "    def __init__ (a, m, y, ma,mo):\n",
    "        a.milage= m\n",
    "        a.year= y\n",
    "        a.make=ma\n",
    "        a.model= mo\n",
    "        \n",
    "    def age(self,current_year):\n",
    "        #and we can use nay local pointer here e.g self...\n",
    "        return current_year -self.year   #here -self.year is local pointer "
   ]
  },
  {
   "cell_type": "code",
   "execution_count": 59,
   "metadata": {},
   "outputs": [],
   "source": [
    "nano5=car(20,2020,2445,\"25fdx\")"
   ]
  },
  {
   "cell_type": "code",
   "execution_count": 60,
   "metadata": {},
   "outputs": [
    {
     "data": {
      "text/plain": [
       "1"
      ]
     },
     "execution_count": 60,
     "metadata": {},
     "output_type": "execute_result"
    }
   ],
   "source": [
    "nano5.age(2021)"
   ]
  },
  {
   "cell_type": "code",
   "execution_count": 78,
   "metadata": {},
   "outputs": [],
   "source": [
    "class car:\n",
    "    def __init__ (a, m, y, ma,mo):\n",
    "        a.milage= m\n",
    "        a.year= y\n",
    "        a.make=ma\n",
    "        a.model= mo\n",
    "        \n",
    "    def age(b,current_year):\n",
    "        return current_year -b.year  \n",
    "    \n",
    "    def milage1(self):\n",
    "         print(\"print a mileage of car \", self.milage)\n",
    "           # return (self.milage1)"
   ]
  },
  {
   "cell_type": "code",
   "execution_count": 79,
   "metadata": {},
   "outputs": [],
   "source": [
    "nano5=car(20,2020,2445,\"25fdx\")"
   ]
  },
  {
   "cell_type": "code",
   "execution_count": 80,
   "metadata": {},
   "outputs": [
    {
     "name": "stdout",
     "output_type": "stream",
     "text": [
      "print a mileage of car  20\n"
     ]
    }
   ],
   "source": [
    "nano5.milage1()"
   ]
  },
  {
   "cell_type": "code",
   "execution_count": 81,
   "metadata": {},
   "outputs": [
    {
     "data": {
      "text/plain": [
       "<__main__.car at 0x20df229d160>"
      ]
     },
     "execution_count": 81,
     "metadata": {},
     "output_type": "execute_result"
    }
   ],
   "source": [
    "nano5"
   ]
  },
  {
   "cell_type": "code",
   "execution_count": 82,
   "metadata": {},
   "outputs": [],
   "source": [
    "#it prints a default object value"
   ]
  },
  {
   "cell_type": "code",
   "execution_count": 86,
   "metadata": {},
   "outputs": [],
   "source": [
    "class car:\n",
    "    def __init__ (a, m, y, ma,mo):\n",
    "        a.milage= m\n",
    "        a.year= y\n",
    "        a.make=ma\n",
    "        a.model= mo\n",
    "        \n",
    "    def age(b,current_year):\n",
    "        return current_year -b.year  \n",
    "    \n",
    "    def milage1(self):\n",
    "         print(\"print a mileage of car \", self.milage)\n",
    "           # return (self.milage1)\n",
    "        \n",
    "    def __str__(c):\n",
    "        return \"this is a my car class i have created\"\n",
    "    #this is a inbuilt method to overwrite current\"main\" output whencer a fucntion is called"
   ]
  },
  {
   "cell_type": "code",
   "execution_count": 87,
   "metadata": {},
   "outputs": [],
   "source": [
    "nano5=car(20,2020,2445,\"25fdx\")"
   ]
  },
  {
   "cell_type": "code",
   "execution_count": 88,
   "metadata": {},
   "outputs": [
    {
     "name": "stdout",
     "output_type": "stream",
     "text": [
      "print a mileage of car  20\n"
     ]
    }
   ],
   "source": [
    "nano5.milage1()"
   ]
  },
  {
   "cell_type": "code",
   "execution_count": 90,
   "metadata": {},
   "outputs": [
    {
     "name": "stdout",
     "output_type": "stream",
     "text": [
      "this is a my car class i have created\n"
     ]
    }
   ],
   "source": [
    "print(nano5)"
   ]
  },
  {
   "cell_type": "markdown",
   "metadata": {},
   "source": [
    "TASK: create a class to store email id, mobile number, name, roll no , joining date, current topic."
   ]
  },
  {
   "cell_type": "code",
   "execution_count": 91,
   "metadata": {},
   "outputs": [],
   "source": [
    "class student:\n",
    "    \n",
    "    def __init__ (self, name, rollno, joining_date, current_topic):\n",
    "        self.name= name\n",
    "        self.rollno= rollno\n",
    "        self.joining_date= joining_date\n",
    "        self.current_topic= current_topic\n",
    "        \n",
    "    def crt_topic(self):\n",
    "        print(\"current topic discussed in my class is : \", self.current_topic)\n",
    "        \n",
    "    def str_rollno(self):\n",
    "        \n",
    "        if type(self.rollno)== str:\n",
    "            print(\"do nothing \")\n",
    "        else:\n",
    "            return str(self.rollno)\n",
    "    \n",
    "    def duration(self, current_date):\n",
    "        \n",
    "        print(\"duration of student in my class is : \", current_date-self.joining_date)\n",
    "    \n",
    "    def __str__(self):\n",
    "        \n",
    "        return \"this is student class where they can try to input there own data and they can try to read it\"\n",
    "    "
   ]
  },
  {
   "cell_type": "code",
   "execution_count": 93,
   "metadata": {},
   "outputs": [],
   "source": [
    "sawan=student(\"sawan\", 21,2021, \"OOPs\")"
   ]
  },
  {
   "cell_type": "code",
   "execution_count": 94,
   "metadata": {},
   "outputs": [
    {
     "name": "stdout",
     "output_type": "stream",
     "text": [
      "duration of student in my class is :  0\n"
     ]
    }
   ],
   "source": [
    "sawan.duration(2021)"
   ]
  },
  {
   "cell_type": "code",
   "execution_count": 95,
   "metadata": {},
   "outputs": [
    {
     "data": {
      "text/plain": [
       "'21'"
      ]
     },
     "execution_count": 95,
     "metadata": {},
     "output_type": "execute_result"
    }
   ],
   "source": [
    "sawan.str_rollno()"
   ]
  },
  {
   "cell_type": "code",
   "execution_count": 96,
   "metadata": {},
   "outputs": [
    {
     "name": "stdout",
     "output_type": "stream",
     "text": [
      "this is student class where they can try to input there own data and they can try to read it\n"
     ]
    }
   ],
   "source": [
    "print(sawan)"
   ]
  },
  {
   "cell_type": "code",
   "execution_count": 97,
   "metadata": {},
   "outputs": [],
   "source": [
    "mar = student(\"mar\",32,353,\"hhfd\")"
   ]
  },
  {
   "cell_type": "code",
   "execution_count": 98,
   "metadata": {},
   "outputs": [
    {
     "data": {
      "text/plain": [
       "<bound method student.str_rollno of <__main__.student object at 0x0000020DF29F57C0>>"
      ]
     },
     "execution_count": 98,
     "metadata": {},
     "output_type": "execute_result"
    }
   ],
   "source": [
    "mar.str_rollno"
   ]
  },
  {
   "cell_type": "code",
   "execution_count": 99,
   "metadata": {},
   "outputs": [],
   "source": [
    "class student:\n",
    "    \n",
    "    def __init__ (self, name, rollno, joining_date, current_topic):\n",
    "        self.name= name\n",
    "        self.rollno= rollno\n",
    "        self.joining_date= joining_date\n",
    "        self.current_topic= current_topic\n",
    "        \n",
    "    def crt_topic(self):\n",
    "        print(\"current topic discussed in my class is : \", self.current_topic)\n",
    "        \n",
    "    def str_rollno(self):\n",
    "        \n",
    "        try:\n",
    "            \n",
    "            if type(self.rollno)== str:\n",
    "                print(\"do nothing \")\n",
    "            else:\n",
    "                return str(self.rollno)\n",
    "        except Exception as e:\n",
    "            print(\"this is my try & exception :\",e)\n",
    "    \n",
    "    def duration(self, current_date):\n",
    "        \n",
    "        print(\"duration of student in my class is : \", current_date-self.joining_date)\n",
    "    \n",
    "    def __str__(self):\n",
    "        \n",
    "        return \"this is student class where they can try to input there own data and they can try to read it\"\n",
    "    "
   ]
  },
  {
   "cell_type": "code",
   "execution_count": 100,
   "metadata": {},
   "outputs": [],
   "source": [
    "mar = student(\"mar\",32,353,\"hhfd\")"
   ]
  },
  {
   "cell_type": "code",
   "execution_count": 101,
   "metadata": {},
   "outputs": [
    {
     "name": "stdout",
     "output_type": "stream",
     "text": [
      "this is student class where they can try to input there own data and they can try to read it\n"
     ]
    }
   ],
   "source": [
    "print(mar)"
   ]
  },
  {
   "cell_type": "code",
   "execution_count": 104,
   "metadata": {},
   "outputs": [],
   "source": [
    "pawan=student([\"sdgdg\",\"sdgvad\",\"dgfg\"], [45,656,4],[463,75435,342],[\"gf\",\"dsg\",\"sdgvc\"])"
   ]
  },
  {
   "cell_type": "code",
   "execution_count": 119,
   "metadata": {},
   "outputs": [],
   "source": [
    "class student:\n",
    "    \n",
    "    def __init__ (self, name, rollno, joining_date, current_topic):\n",
    "        self.name= name\n",
    "        self.rollno= rollno\n",
    "        self.joining_date= joining_date\n",
    "        self.current_topic= current_topic\n",
    "    \n",
    "    def name_parsing(self):\n",
    "        if type(self.name)==list:\n",
    "            for i in self.name:\n",
    "                print(\"name of student \",i)\n",
    "        else:\n",
    "            print(\"provided name is not in a form of list\")\n",
    "    \n",
    "    def crt_topic(self):\n",
    "        print(\"current topic discussed in my class is : \", self.current_topic)\n",
    "        \n",
    "    def str_rollno(self):\n",
    "        \n",
    "        try:\n",
    "            \n",
    "            if type(self.rollno)== str:\n",
    "                print(\"do nothing \")\n",
    "            else:\n",
    "                return str(self.rollno)\n",
    "        except Exception as e:\n",
    "            print(\"this is my try & exception :\",e)\n",
    "    \n",
    "    def duration(self, current_date):\n",
    "        \n",
    "        print(\"duration of student in my class is : \", current_date-self.joining_date)\n",
    "    \n",
    "    def __str__(self):\n",
    "        #def __str__ is a inbuilt fucntion which is used to PRINT THE OBJECT instead of showing \"main code\"\n",
    "        return \"this is student class where they can try to input there own data and they can try to read it\"\n",
    "    "
   ]
  },
  {
   "cell_type": "code",
   "execution_count": 120,
   "metadata": {},
   "outputs": [],
   "source": [
    "pawan=student([\"sdgdg\",\"sdgvad\",\"dgfg\"], [45,656,4],[463,75435,342],[\"gf\",\"dsg\",\"sdgvc\"])"
   ]
  },
  {
   "cell_type": "code",
   "execution_count": 121,
   "metadata": {},
   "outputs": [
    {
     "name": "stdout",
     "output_type": "stream",
     "text": [
      "name of student  sdgdg\n",
      "name of student  sdgvad\n",
      "name of student  dgfg\n"
     ]
    }
   ],
   "source": [
    "pawan.name_parsing()"
   ]
  },
  {
   "cell_type": "markdown",
   "metadata": {},
   "source": [
    "TASK:(a) Create a class named as data. Create 4 class variables as File_name, file_type, date, size. THen create a fucntion file_open which takes file_name adn create a file if not exists and write soemthing in file. Create other function file_read which returns whatever written i nread form. Other file_append so as t new data in same file and show."
   ]
  },
  {
   "cell_type": "markdown",
   "metadata": {},
   "source": [
    "(b) in above task create a separate fucntion which calls logger & perform exception handling."
   ]
  },
  {
   "cell_type": "markdown",
   "metadata": {},
   "source": []
  },
  {
   "cell_type": "code",
   "execution_count": 122,
   "metadata": {},
   "outputs": [
    {
     "name": "stdout",
     "output_type": "stream",
     "text": [
      "This is test file\n"
     ]
    }
   ],
   "source": [
    "## challange level1 \n",
    "class data :\n",
    "    def __init__(self,filename,filetype,date,size):\n",
    "        self.filename = filename\n",
    "        self.filetype = filetype\n",
    "        self.date = date\n",
    "        self.size = size\n",
    "        \n",
    "    def fileopen(self):\n",
    "        f = open(self.filename,'w')\n",
    "        f.write(\"This is test file\")\n",
    "        f.close()\n",
    "    \n",
    "    def fileread(self):\n",
    "        f = open(self.filename,'r')\n",
    "        print(f.read())\n",
    "        f.close()\n",
    "    \n",
    "    def fileappend(self):\n",
    "        f = open(self.filename,'a')\n",
    "        f.write(\"Appending data to file\")\n",
    "        f.close()\n",
    "\n",
    "        \n",
    "file1 = data('file1','txt','2021-4-11','2MB')\n",
    "file1.fileopen()\n",
    "file1.fileread()\n",
    "file1.fileappend()\n"
   ]
  },
  {
   "cell_type": "code",
   "execution_count": 128,
   "metadata": {},
   "outputs": [],
   "source": [
    "import logging as lg\n",
    "lg.basicConfig(filename='OOPS.log', level=lg.ERROR)\n",
    "class Data:\n",
    "    \n",
    "    def __init__(self, fileName, fileType, data, size):\n",
    "        self.fileName = fileName\n",
    "        self.fileType = fileType\n",
    "        self.data = data\n",
    "        self.size = size\n",
    "\n",
    "    def File_open(self): \n",
    "        try:  \n",
    "            with open(self.fileName+self.fileType,'w') as f:\n",
    "                f.write(self.data)\n",
    "        except Exception as e:\n",
    "                self.logging(e)\n",
    "    \n",
    "    def File_read(self):\n",
    "        try:\n",
    "            with open(self.fileName+self.fileType,'r') as f:\n",
    "                f.read()\n",
    "        except FileNotFoundError as e:\n",
    "            self.logging(e)\n",
    "        except Exception as e:\n",
    "            self.logging(e)\n",
    "    \n",
    "    def  File_append(self, data):\n",
    "        try:\n",
    "            with open(self.fileName+self.fileType, 'a') as f:\n",
    "                f.write(data)\n",
    "        except FileNotFoundError as e:\n",
    "             self.logging(e)\n",
    "        except Exception as e:\n",
    "            self.logging(e)\n",
    "\n",
    "    \n",
    "    \n",
    "    def logging(self, log):\n",
    "        lg.error(log) \n",
    "    \n",
    "    \n",
    "    \n",
    "d = Data('d','.txt','hi',2)\n",
    "d.File_open()\n",
    "d.File_append('op')\n"
   ]
  },
  {
   "cell_type": "code",
   "execution_count": null,
   "metadata": {},
   "outputs": [],
   "source": []
  },
  {
   "cell_type": "code",
   "execution_count": null,
   "metadata": {},
   "outputs": [],
   "source": []
  },
  {
   "cell_type": "markdown",
   "metadata": {},
   "source": [
    "## THANK YOU & Enjoy Learning"
   ]
  }
 ],
 "metadata": {
  "kernelspec": {
   "display_name": "Python 3",
   "language": "python",
   "name": "python3"
  },
  "language_info": {
   "codemirror_mode": {
    "name": "ipython",
    "version": 3
   },
   "file_extension": ".py",
   "mimetype": "text/x-python",
   "name": "python",
   "nbconvert_exporter": "python",
   "pygments_lexer": "ipython3",
   "version": "3.8.5"
  }
 },
 "nbformat": 4,
 "nbformat_minor": 4
}
