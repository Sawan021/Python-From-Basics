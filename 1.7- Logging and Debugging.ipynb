{
 "cells": [
  {
   "cell_type": "markdown",
   "metadata": {},
   "source": [
    "# LOGGING & DEBUGGING"
   ]
  },
  {
   "cell_type": "markdown",
   "metadata": {},
   "source": [
    "LOGGING is basically a record of all activities that we are performing in order to keep track of it.\n",
    "In many projects we have a lot of algorithms. Whenever we see a error/issue then we refer to log detailsa to find the location of that particular bug.\n",
    "Hence it is very important to create logging so that in future it is handy to debug it."
   ]
  },
  {
   "cell_type": "markdown",
   "metadata": {},
   "source": [
    "Following factors are stored as a part of logging:       \n",
    "\n",
    "(a) DEBUG\n",
    "(b) INFO\n",
    "(c) WARNING\n",
    "(d) ERROR\n",
    "(e) CRITICAL"
   ]
  },
  {
   "cell_type": "code",
   "execution_count": 6,
   "metadata": {},
   "outputs": [],
   "source": [
    "import logging as lg"
   ]
  },
  {
   "cell_type": "code",
   "execution_count": 7,
   "metadata": {},
   "outputs": [],
   "source": [
    "import os"
   ]
  },
  {
   "cell_type": "code",
   "execution_count": 8,
   "metadata": {},
   "outputs": [
    {
     "ename": "FileExistsError",
     "evalue": "[WinError 183] Cannot create a file when that file already exists: 'logging dir'",
     "output_type": "error",
     "traceback": [
      "\u001b[1;31m---------------------------------------------------------------------------\u001b[0m",
      "\u001b[1;31mFileExistsError\u001b[0m                           Traceback (most recent call last)",
      "\u001b[1;32m<ipython-input-8-b5a11b44a816>\u001b[0m in \u001b[0;36m<module>\u001b[1;34m\u001b[0m\n\u001b[1;32m----> 1\u001b[1;33m \u001b[0mos\u001b[0m\u001b[1;33m.\u001b[0m\u001b[0mmkdir\u001b[0m\u001b[1;33m(\u001b[0m\u001b[1;34m\"logging dir\"\u001b[0m\u001b[1;33m)\u001b[0m\u001b[1;33m\u001b[0m\u001b[1;33m\u001b[0m\u001b[0m\n\u001b[0m\u001b[0;32m      2\u001b[0m \u001b[1;31m#a logging directory would be created inside same folder\u001b[0m\u001b[1;33m\u001b[0m\u001b[1;33m\u001b[0m\u001b[1;33m\u001b[0m\u001b[0m\n",
      "\u001b[1;31mFileExistsError\u001b[0m: [WinError 183] Cannot create a file when that file already exists: 'logging dir'"
     ]
    }
   ],
   "source": [
    "os.mkdir(\"logging dir\")\n",
    "#a logging directory would be created inside same folder"
   ]
  },
  {
   "cell_type": "code",
   "execution_count": 9,
   "metadata": {},
   "outputs": [],
   "source": [
    "os.chdir(os.getcwd() + \"/\" + \"logging dir\")"
   ]
  },
  {
   "cell_type": "code",
   "execution_count": 10,
   "metadata": {},
   "outputs": [
    {
     "data": {
      "text/plain": [
       "'C:\\\\Users\\\\Hp\\\\Downloads\\\\DS--iNeuron (handson)\\\\DATA SCIENCE MASTERS\\\\logging dir'"
      ]
     },
     "execution_count": 10,
     "metadata": {},
     "output_type": "execute_result"
    }
   ],
   "source": [
    "pwd()"
   ]
  },
  {
   "cell_type": "code",
   "execution_count": 11,
   "metadata": {},
   "outputs": [],
   "source": [
    "lg.basicConfig(filename='test20722.log',level=lg.INFO, format= '%(asctime)s %(message)s')\n",
    "#ideally log systems should be availabel on cloud databases not on local sytaems"
   ]
  },
  {
   "cell_type": "code",
   "execution_count": 7,
   "metadata": {},
   "outputs": [],
   "source": [
    "lg.info(\"i am going to start my program\")"
   ]
  },
  {
   "cell_type": "code",
   "execution_count": 8,
   "metadata": {},
   "outputs": [],
   "source": [
    "lg.warning(\"this is a first warning of my program to modify it\")"
   ]
  },
  {
   "cell_type": "code",
   "execution_count": 9,
   "metadata": {},
   "outputs": [],
   "source": [
    "lg.error(\"this is a message for error\")"
   ]
  },
  {
   "cell_type": "code",
   "execution_count": 10,
   "metadata": {},
   "outputs": [],
   "source": [
    "#how to decide which one is error which one is info\n",
    "#we try to exception hanlding runitme error, duplicated warning\n",
    "#we are supposed to read out those warnings, inof etc.. and then log it"
   ]
  },
  {
   "cell_type": "code",
   "execution_count": 12,
   "metadata": {},
   "outputs": [],
   "source": [
    "# lg.error() will capture all the error that are encountered"
   ]
  },
  {
   "cell_type": "code",
   "execution_count": 13,
   "metadata": {},
   "outputs": [],
   "source": [
    "def test(a,b):\n",
    "    \n",
    "    try:\n",
    "        lg.info(str(a),str(b))\n",
    "        div=a/b\n",
    "        return div\n",
    "    except Exception as e:\n",
    "        print(\"you can check log file for more info if ypour codd fails\")\n",
    "        log.error(\"error has occured\")\n",
    "        lg.exception(str(e))\n",
    "#now we can try to capture this\n",
    "# IN standard CODING PRACTICES we do not call logging statements, we use logger instead of print\n"
   ]
  },
  {
   "cell_type": "code",
   "execution_count": 16,
   "metadata": {},
   "outputs": [
    {
     "name": "stdout",
     "output_type": "stream",
     "text": [
      "you can check log file for more info if ypour codd fails\n"
     ]
    },
    {
     "ename": "NameError",
     "evalue": "name 'log' is not defined",
     "output_type": "error",
     "traceback": [
      "\u001b[1;31m---------------------------------------------------------------------------\u001b[0m",
      "\u001b[1;31mZeroDivisionError\u001b[0m                         Traceback (most recent call last)",
      "\u001b[1;32m<ipython-input-15-e35282ed0e48>\u001b[0m in \u001b[0;36mtest\u001b[1;34m(a, b)\u001b[0m\n\u001b[0;32m      4\u001b[0m \u001b[1;33m\u001b[0m\u001b[0m\n\u001b[1;32m----> 5\u001b[1;33m         \u001b[0mdiv\u001b[0m\u001b[1;33m=\u001b[0m\u001b[0ma\u001b[0m\u001b[1;33m/\u001b[0m\u001b[0mb\u001b[0m\u001b[1;33m\u001b[0m\u001b[1;33m\u001b[0m\u001b[0m\n\u001b[0m\u001b[0;32m      6\u001b[0m         \u001b[1;32mreturn\u001b[0m \u001b[0mdiv\u001b[0m\u001b[1;33m\u001b[0m\u001b[1;33m\u001b[0m\u001b[0m\n",
      "\u001b[1;31mZeroDivisionError\u001b[0m: division by zero",
      "\nDuring handling of the above exception, another exception occurred:\n",
      "\u001b[1;31mNameError\u001b[0m                                 Traceback (most recent call last)",
      "\u001b[1;32m<ipython-input-16-967fc90e6d05>\u001b[0m in \u001b[0;36m<module>\u001b[1;34m\u001b[0m\n\u001b[1;32m----> 1\u001b[1;33m \u001b[0mtest\u001b[0m\u001b[1;33m(\u001b[0m\u001b[1;36m4\u001b[0m\u001b[1;33m,\u001b[0m\u001b[1;36m0\u001b[0m\u001b[1;33m)\u001b[0m\u001b[1;33m\u001b[0m\u001b[1;33m\u001b[0m\u001b[0m\n\u001b[0m",
      "\u001b[1;32m<ipython-input-15-e35282ed0e48>\u001b[0m in \u001b[0;36mtest\u001b[1;34m(a, b)\u001b[0m\n\u001b[0;32m      7\u001b[0m     \u001b[1;32mexcept\u001b[0m \u001b[0mException\u001b[0m \u001b[1;32mas\u001b[0m \u001b[0me\u001b[0m\u001b[1;33m:\u001b[0m\u001b[1;33m\u001b[0m\u001b[1;33m\u001b[0m\u001b[0m\n\u001b[0;32m      8\u001b[0m         \u001b[0mprint\u001b[0m\u001b[1;33m(\u001b[0m\u001b[1;34m\"you can check log file for more info if ypour codd fails\"\u001b[0m\u001b[1;33m)\u001b[0m\u001b[1;33m\u001b[0m\u001b[1;33m\u001b[0m\u001b[0m\n\u001b[1;32m----> 9\u001b[1;33m         \u001b[0mlog\u001b[0m\u001b[1;33m.\u001b[0m\u001b[0merror\u001b[0m\u001b[1;33m(\u001b[0m\u001b[1;34m\"error has occured\"\u001b[0m\u001b[1;33m)\u001b[0m\u001b[1;33m\u001b[0m\u001b[1;33m\u001b[0m\u001b[0m\n\u001b[0m\u001b[0;32m     10\u001b[0m         \u001b[0mlg\u001b[0m\u001b[1;33m.\u001b[0m\u001b[0mexception\u001b[0m\u001b[1;33m(\u001b[0m\u001b[0mstr\u001b[0m\u001b[1;33m(\u001b[0m\u001b[0me\u001b[0m\u001b[1;33m)\u001b[0m\u001b[1;33m)\u001b[0m\u001b[1;33m\u001b[0m\u001b[1;33m\u001b[0m\u001b[0m\n\u001b[0;32m     11\u001b[0m \u001b[1;31m#now we can try to capture this\u001b[0m\u001b[1;33m\u001b[0m\u001b[1;33m\u001b[0m\u001b[1;33m\u001b[0m\u001b[0m\n",
      "\u001b[1;31mNameError\u001b[0m: name 'log' is not defined"
     ]
    }
   ],
   "source": [
    "test(4,0)"
   ]
  },
  {
   "cell_type": "code",
   "execution_count": 14,
   "metadata": {},
   "outputs": [],
   "source": [
    "import logging as lg1\n",
    "lg1.basicConfig(filename=\"test20722\", level=lg1.info)\n",
    "def test(a,b):\n",
    "    lg1.info(\"this is a start of function\")\n",
    "    return a+b"
   ]
  },
  {
   "cell_type": "code",
   "execution_count": 15,
   "metadata": {},
   "outputs": [
    {
     "data": {
      "text/plain": [
       "11"
      ]
     },
     "execution_count": 15,
     "metadata": {},
     "output_type": "execute_result"
    }
   ],
   "source": [
    "test(5,6)"
   ]
  },
  {
   "cell_type": "code",
   "execution_count": 16,
   "metadata": {},
   "outputs": [],
   "source": [
    "lg1.shutdown()\n",
    "#to close the logging"
   ]
  },
  {
   "cell_type": "code",
   "execution_count": 17,
   "metadata": {},
   "outputs": [],
   "source": [
    "lg.debug(\"this is for debugging\")\n",
    "lg.info(\"this is INFO log\")\n",
    "lg.warning(\"this is WARNING log\")\n",
    "lg.error(\"this is ERROR log\")\n",
    "lg.exception(\"this is a EXCEPTION log\")  #will show none type\n",
    "lg.critical(\"this is a CRITICAL log\")"
   ]
  },
  {
   "cell_type": "markdown",
   "metadata": {},
   "source": [
    "TASK:"
   ]
  },
  {
   "cell_type": "markdown",
   "metadata": {},
   "source": [
    "(1) create a logger in your code"
   ]
  },
  {
   "cell_type": "markdown",
   "metadata": {},
   "source": [
    "(2) Create one function which can take only number of inpit as a argument and it will be able to return sun of it.\n",
    "(3) Capture user inpout in log\n",
    "(4) Give user instruction in log file\n",
    "(5) Read a log file from python code and show all the login console."
   ]
  },
  {
   "cell_type": "code",
   "execution_count": 18,
   "metadata": {},
   "outputs": [
    {
     "data": {
      "text/plain": [
       "'C:\\\\Users\\\\Hp\\\\Downloads\\\\DS--iNeuron (handson)\\\\DATA SCIENCE MASTERS\\\\logging dir'"
      ]
     },
     "execution_count": 18,
     "metadata": {},
     "output_type": "execute_result"
    }
   ],
   "source": [
    "pwd()"
   ]
  },
  {
   "cell_type": "code",
   "execution_count": 23,
   "metadata": {},
   "outputs": [],
   "source": [
    "import logging as lg2\n",
    "lg2.basicConfig(filename=\"test20722.log\",level=lg2.INFO)\n",
    "def addition (*args):\n",
    "    \n",
    "    lg2.info(\"this is my addition function\")\n",
    "    sum1=0\n",
    "    for i in args:\n",
    "        lg2.info(str(i))\n",
    "        sum1=sum1+i\n",
    "    return\n",
    "\n",
    "f= open(\"test20722.log\",\"r\")\n",
    "#print(f.read())\n"
   ]
  },
  {
   "cell_type": "code",
   "execution_count": 25,
   "metadata": {},
   "outputs": [],
   "source": [
    "addition()"
   ]
  },
  {
   "cell_type": "code",
   "execution_count": 4,
   "metadata": {},
   "outputs": [],
   "source": [
    "import logging\n",
    "#this \"logging\"  will be a root and it is a variable"
   ]
  },
  {
   "cell_type": "code",
   "execution_count": 5,
   "metadata": {},
   "outputs": [],
   "source": [
    "logging.basicConfig(filename=\"test20.log\", level=logging.DEBUG, format='%(asctime)s %(levelname)s %(message)s')"
   ]
  },
  {
   "cell_type": "code",
   "execution_count": 6,
   "metadata": {},
   "outputs": [],
   "source": [
    "import os\n",
    "os.chdir(os.getcwd() + \"/\" + \"logging dir\")"
   ]
  },
  {
   "cell_type": "code",
   "execution_count": 7,
   "metadata": {},
   "outputs": [],
   "source": [
    "console_log=logging.StreamHandler()\n",
    "console_log.setLevel(logging.INFO)\n",
    "#used to store in log and display as well\n",
    "#so stream HAndler should print 3 lines of messages typed"
   ]
  },
  {
   "cell_type": "code",
   "execution_count": 8,
   "metadata": {},
   "outputs": [],
   "source": [
    "format='%(asctime)s %(levelname)s %(message)s'"
   ]
  },
  {
   "cell_type": "code",
   "execution_count": 9,
   "metadata": {},
   "outputs": [],
   "source": [
    "console_log.setFormatter(format)"
   ]
  },
  {
   "cell_type": "code",
   "execution_count": 10,
   "metadata": {},
   "outputs": [],
   "source": [
    "logging.getLogger('').addHandler(console_log)"
   ]
  },
  {
   "cell_type": "code",
   "execution_count": 11,
   "metadata": {},
   "outputs": [
    {
     "name": "stderr",
     "output_type": "stream",
     "text": [
      "%(asctime)s %(levelname)s %(message)s\n"
     ]
    }
   ],
   "source": [
    "logging.info(\"this is my first test code for log\")\n",
    "#note message in Red band will be recieved due to stream handler"
   ]
  },
  {
   "cell_type": "code",
   "execution_count": 12,
   "metadata": {},
   "outputs": [],
   "source": [
    "logger1= logging.getLogger('logger1.area1')\n",
    "logger2= logging.getLogger('logger2.area2')"
   ]
  },
  {
   "cell_type": "code",
   "execution_count": 13,
   "metadata": {},
   "outputs": [
    {
     "name": "stderr",
     "output_type": "stream",
     "text": [
      "%(asctime)s %(levelname)s %(message)s\n",
      "%(asctime)s %(levelname)s %(message)s\n"
     ]
    }
   ],
   "source": [
    "logger1.info(\"this is a logger 1 \")\n",
    "logger2.debug(\"this is a debugging for logger 2\")\n",
    "logger2.info(\"THis is a logger 2\")\n",
    "#creating a multiple logger within a logger"
   ]
  },
  {
   "cell_type": "markdown",
   "metadata": {},
   "source": [
    "we can use these in github and other websites to create a log whom has downloaded what and visited profiel when. we can record user details , system ID, emails etc.."
   ]
  },
  {
   "cell_type": "code",
   "execution_count": 15,
   "metadata": {},
   "outputs": [
    {
     "name": "stderr",
     "output_type": "stream",
     "text": [
      "%(asctime)s %(levelname)s %(message)s\n",
      "%(asctime)s %(name)s %(levelname)s %(message)s\n",
      "%(asctime)s %(levelname)s %(message)s\n",
      "%(asctime)s %(name)s %(levelname)s %(message)s\n",
      "%(asctime)s %(name)s %(levelname)s %(message)s\n",
      "%(asctime)s %(levelname)s %(message)s\n",
      "%(asctime)s %(name)s %(levelname)s %(message)s\n",
      "%(asctime)s %(name)s %(levelname)s %(message)s\n"
     ]
    }
   ],
   "source": [
    "logging.basicConfig(filename = 'app3.log' , level = logging.DEBUG , format = '%(asctime)s %(name)s %(levelname)s %(message)s',filemode ='r+')\n",
    "console_log = logging.StreamHandler()\n",
    "console_log.setLevel(logging.INFO)\n",
    "os.chmod(os.getcwd(),777)\n",
    "format  = '%(asctime)s %(name)s %(levelname)s %(message)s'\n",
    "console_log.setFormatter(format)\n",
    "logging.info(\"this is my first test code for log\")\n",
    "logging.getLogger().addHandler(console_log)\n",
    "\n",
    "logger1 = logging.getLogger('user1')\n",
    "logger2 = logging.getLogger('user2')\n",
    "logger3= logging.getLogger('user3')\n",
    "logger4= logging.getLogger('user4')\n",
    "logger1.info(\"this is info for logger one \")\n",
    "logger2.debug(\"this is a debug for logger two\")\n",
    "logger2.info(\"this is info for logger two \")"
   ]
  },
  {
   "cell_type": "code",
   "execution_count": 16,
   "metadata": {},
   "outputs": [
    {
     "name": "stderr",
     "output_type": "stream",
     "text": [
      "%(asctime)s %(levelname)s %(message)s\n",
      "%(asctime)s %(name)s %(levelname)s %(message)s\n",
      "%(asctime)s %(name)s %(levelname)s %(message)s\n",
      "root - 2022-07-20 18:03:26,516 - INFO - main log\n",
      "%(asctime)s %(levelname)s %(message)s\n",
      "%(asctime)s %(name)s %(levelname)s %(message)s\n",
      "%(asctime)s %(name)s %(levelname)s %(message)s\n",
      "user1 - 2022-07-20 18:03:26,521 - INFO - this is from user1 info\n",
      "user2 - 2022-07-20 18:03:26,526 - DEBUG - This is from user2 debug\n"
     ]
    }
   ],
   "source": [
    "# logging_example.py\n",
    "\n",
    "import logging\n",
    "\n",
    "logging.basicConfig(filename='app1.log',level=logging.DEBUG,format = '%(name)s - %(asctime)s - %(levelname)s - %(message)s')\n",
    "\n",
    "# Create handlers\n",
    "console_log = logging.StreamHandler()\n",
    "console_log.setLevel(logging.DEBUG)\n",
    "format = logging.Formatter('%(name)s - %(asctime)s - %(levelname)s - %(message)s')\n",
    "console_log.setFormatter(format)\n",
    "# Create a custom logger\n",
    "logging.getLogger('').addHandler(console_log)\n",
    "logging.info('main log')\n",
    "logger1 = logging.getLogger('user1')\n",
    "logger2 = logging.getLogger('user2')\n",
    "logger1.info('this is from user1 info')\n",
    "logger2.debug('This is from user2 debug')\n"
   ]
  },
  {
   "cell_type": "markdown",
   "metadata": {},
   "source": [
    "hence LOGGING is used to track the error address/location of "
   ]
  },
  {
   "cell_type": "markdown",
   "metadata": {},
   "source": [
    "### DEBUGGING"
   ]
  },
  {
   "cell_type": "markdown",
   "metadata": {},
   "source": [
    "INtention is to the execution one by one stepwise and how code is executing."
   ]
  },
  {
   "cell_type": "code",
   "execution_count": 17,
   "metadata": {},
   "outputs": [],
   "source": [
    "def testbug():\n",
    "    l=[]\n",
    "    for i in range(10):\n",
    "        l.append(i)\n",
    "        print(\"we have appended your data in list\")\n",
    "    return l"
   ]
  },
  {
   "cell_type": "code",
   "execution_count": 18,
   "metadata": {},
   "outputs": [
    {
     "name": "stdout",
     "output_type": "stream",
     "text": [
      "we have appended your data in list\n",
      "we have appended your data in list\n",
      "we have appended your data in list\n",
      "we have appended your data in list\n",
      "we have appended your data in list\n",
      "we have appended your data in list\n",
      "we have appended your data in list\n",
      "we have appended your data in list\n",
      "we have appended your data in list\n",
      "we have appended your data in list\n"
     ]
    },
    {
     "data": {
      "text/plain": [
       "[0, 1, 2, 3, 4, 5, 6, 7, 8, 9]"
      ]
     },
     "execution_count": 18,
     "metadata": {},
     "output_type": "execute_result"
    }
   ],
   "source": [
    "testbug()"
   ]
  },
  {
   "cell_type": "code",
   "execution_count": 21,
   "metadata": {},
   "outputs": [],
   "source": [
    "import ipdb"
   ]
  },
  {
   "cell_type": "markdown",
   "metadata": {},
   "source": [
    "For a jupyter notebook debugging library is not avaialale , so we have to install a library named as pdb or package called ipdb (python debugger). FOr jupyte rnotebook \"i\" is used that is ipdb. and we can finf this inside a repositry called conda."
   ]
  },
  {
   "cell_type": "code",
   "execution_count": 20,
   "metadata": {},
   "outputs": [
    {
     "name": "stdout",
     "output_type": "stream",
     "text": [
      "Collecting ipdb\n",
      "  Downloading ipdb-0.13.9.tar.gz (16 kB)\n",
      "Requirement already satisfied: setuptools in c:\\users\\hp\\anaconda3\\lib\\site-packages (from ipdb) (50.3.1.post20201107)\n",
      "Requirement already satisfied: ipython>=7.17.0 in c:\\users\\hp\\anaconda3\\lib\\site-packages (from ipdb) (7.19.0)\n",
      "Collecting toml>=0.10.2\n",
      "  Downloading toml-0.10.2-py2.py3-none-any.whl (16 kB)\n",
      "Requirement already satisfied: decorator in c:\\users\\hp\\anaconda3\\lib\\site-packages (from ipdb) (4.4.2)\n",
      "Requirement already satisfied: jedi>=0.10 in c:\\users\\hp\\anaconda3\\lib\\site-packages (from ipython>=7.17.0->ipdb) (0.17.1)\n",
      "Requirement already satisfied: traitlets>=4.2 in c:\\users\\hp\\anaconda3\\lib\\site-packages (from ipython>=7.17.0->ipdb) (5.0.5)\n",
      "Requirement already satisfied: colorama; sys_platform == \"win32\" in c:\\users\\hp\\anaconda3\\lib\\site-packages (from ipython>=7.17.0->ipdb) (0.4.4)\n",
      "Requirement already satisfied: pickleshare in c:\\users\\hp\\anaconda3\\lib\\site-packages (from ipython>=7.17.0->ipdb) (0.7.5)\n",
      "Requirement already satisfied: prompt-toolkit!=3.0.0,!=3.0.1,<3.1.0,>=2.0.0 in c:\\users\\hp\\anaconda3\\lib\\site-packages (from ipython>=7.17.0->ipdb) (3.0.8)\n",
      "Requirement already satisfied: pygments in c:\\users\\hp\\anaconda3\\lib\\site-packages (from ipython>=7.17.0->ipdb) (2.7.2)\n",
      "Requirement already satisfied: backcall in c:\\users\\hp\\anaconda3\\lib\\site-packages (from ipython>=7.17.0->ipdb) (0.2.0)\n",
      "Requirement already satisfied: parso<0.8.0,>=0.7.0 in c:\\users\\hp\\anaconda3\\lib\\site-packages (from jedi>=0.10->ipython>=7.17.0->ipdb) (0.7.0)\n",
      "Requirement already satisfied: ipython-genutils in c:\\users\\hp\\anaconda3\\lib\\site-packages (from traitlets>=4.2->ipython>=7.17.0->ipdb) (0.2.0)\n",
      "Requirement already satisfied: wcwidth in c:\\users\\hp\\anaconda3\\lib\\site-packages (from prompt-toolkit!=3.0.0,!=3.0.1,<3.1.0,>=2.0.0->ipython>=7.17.0->ipdb) (0.2.5)\n",
      "Building wheels for collected packages: ipdb\n",
      "  Building wheel for ipdb (setup.py): started\n",
      "  Building wheel for ipdb (setup.py): finished with status 'done'\n",
      "  Created wheel for ipdb: filename=ipdb-0.13.9-py3-none-any.whl size=11623 sha256=4c16e678632685fc2bdf2b4cd07b12b068047b5766d0ebfa1ef84b87b272461a\n",
      "  Stored in directory: c:\\users\\hp\\appdata\\local\\pip\\cache\\wheels\\d8\\51\\8c\\3dceedacfd0f743f3736b3840d08b6746b6259deea98207ba4\n",
      "Successfully built ipdb\n",
      "Installing collected packages: toml, ipdb\n",
      "  Attempting uninstall: toml\n",
      "    Found existing installation: toml 0.10.1\n",
      "    Uninstalling toml-0.10.1:\n",
      "      Successfully uninstalled toml-0.10.1\n",
      "Successfully installed ipdb-0.13.9 toml-0.10.2\n"
     ]
    }
   ],
   "source": [
    "!pip install ipdb"
   ]
  },
  {
   "cell_type": "code",
   "execution_count": 22,
   "metadata": {},
   "outputs": [],
   "source": [
    "#we are trying to call a new package which is not part of your package.\n",
    "#we can also install by directly writing in console\n",
    "# pip install ipdb"
   ]
  },
  {
   "cell_type": "code",
   "execution_count": 3,
   "metadata": {},
   "outputs": [],
   "source": [
    "import ipdb"
   ]
  },
  {
   "cell_type": "code",
   "execution_count": null,
   "metadata": {},
   "outputs": [],
   "source": [
    "#this can also be used instaed of pip ipdb\n",
    "!conda install ipdb"
   ]
  },
  {
   "cell_type": "code",
   "execution_count": 4,
   "metadata": {},
   "outputs": [],
   "source": [
    "def testdebug():\n",
    "    ipdb.set_trace()\n",
    "    l = []\n",
    "    for i in range(10):\n",
    "        for j in range(5):\n",
    "            l.append(i)\n",
    "            if i == 4 :\n",
    "                continue\n",
    "            print(\"we have appended your data in list \")\n",
    "    return l "
   ]
  },
  {
   "cell_type": "code",
   "execution_count": 5,
   "metadata": {},
   "outputs": [
    {
     "name": "stdout",
     "output_type": "stream",
     "text": [
      "> \u001b[1;32m<ipython-input-4-42c0db6e3cd9>\u001b[0m(3)\u001b[0;36mtestdebug\u001b[1;34m()\u001b[0m\n",
      "\u001b[1;32m      2 \u001b[1;33m    \u001b[0mipdb\u001b[0m\u001b[1;33m.\u001b[0m\u001b[0mset_trace\u001b[0m\u001b[1;33m(\u001b[0m\u001b[1;33m)\u001b[0m\u001b[1;33m\u001b[0m\u001b[1;33m\u001b[0m\u001b[0m\n",
      "\u001b[0m\u001b[1;32m----> 3 \u001b[1;33m    \u001b[0ml\u001b[0m \u001b[1;33m=\u001b[0m \u001b[1;33m[\u001b[0m\u001b[1;33m]\u001b[0m\u001b[1;33m\u001b[0m\u001b[1;33m\u001b[0m\u001b[0m\n",
      "\u001b[0m\u001b[1;32m      4 \u001b[1;33m    \u001b[1;32mfor\u001b[0m \u001b[0mi\u001b[0m \u001b[1;32min\u001b[0m \u001b[0mrange\u001b[0m\u001b[1;33m(\u001b[0m\u001b[1;36m10\u001b[0m\u001b[1;33m)\u001b[0m\u001b[1;33m:\u001b[0m\u001b[1;33m\u001b[0m\u001b[1;33m\u001b[0m\u001b[0m\n",
      "\u001b[0m\n",
      "ipdb> h\n",
      "\n",
      "Documented commands (type help <topic>):\n",
      "========================================\n",
      "EOF    cl         disable  interact  next    psource  rv           undisplay\n",
      "a      clear      display  j         p       q        s            unt      \n",
      "alias  commands   down     jump      pdef    quit     skip_hidden  until    \n",
      "args   condition  enable   l         pdoc    r        source       up       \n",
      "b      cont       exit     list      pfile   restart  step         w        \n",
      "break  continue   h        ll        pinfo   return   tbreak       whatis   \n",
      "bt     d          help     longlist  pinfo2  retval   u            where    \n",
      "c      debug      ignore   n         pp      run      unalias    \n",
      "\n",
      "Miscellaneous help topics:\n",
      "==========================\n",
      "exec  pdb\n",
      "\n",
      "ipdb> next\n",
      "> \u001b[1;32m<ipython-input-4-42c0db6e3cd9>\u001b[0m(4)\u001b[0;36mtestdebug\u001b[1;34m()\u001b[0m\n",
      "\u001b[1;32m      3 \u001b[1;33m    \u001b[0ml\u001b[0m \u001b[1;33m=\u001b[0m \u001b[1;33m[\u001b[0m\u001b[1;33m]\u001b[0m\u001b[1;33m\u001b[0m\u001b[1;33m\u001b[0m\u001b[0m\n",
      "\u001b[0m\u001b[1;32m----> 4 \u001b[1;33m    \u001b[1;32mfor\u001b[0m \u001b[0mi\u001b[0m \u001b[1;32min\u001b[0m \u001b[0mrange\u001b[0m\u001b[1;33m(\u001b[0m\u001b[1;36m10\u001b[0m\u001b[1;33m)\u001b[0m\u001b[1;33m:\u001b[0m\u001b[1;33m\u001b[0m\u001b[1;33m\u001b[0m\u001b[0m\n",
      "\u001b[0m\u001b[1;32m      5 \u001b[1;33m        \u001b[1;32mfor\u001b[0m \u001b[0mj\u001b[0m \u001b[1;32min\u001b[0m \u001b[0mrange\u001b[0m\u001b[1;33m(\u001b[0m\u001b[1;36m5\u001b[0m\u001b[1;33m)\u001b[0m\u001b[1;33m:\u001b[0m\u001b[1;33m\u001b[0m\u001b[1;33m\u001b[0m\u001b[0m\n",
      "\u001b[0m\n",
      "ipdb> next\n",
      "> \u001b[1;32m<ipython-input-4-42c0db6e3cd9>\u001b[0m(5)\u001b[0;36mtestdebug\u001b[1;34m()\u001b[0m\n",
      "\u001b[1;32m      4 \u001b[1;33m    \u001b[1;32mfor\u001b[0m \u001b[0mi\u001b[0m \u001b[1;32min\u001b[0m \u001b[0mrange\u001b[0m\u001b[1;33m(\u001b[0m\u001b[1;36m10\u001b[0m\u001b[1;33m)\u001b[0m\u001b[1;33m:\u001b[0m\u001b[1;33m\u001b[0m\u001b[1;33m\u001b[0m\u001b[0m\n",
      "\u001b[0m\u001b[1;32m----> 5 \u001b[1;33m        \u001b[1;32mfor\u001b[0m \u001b[0mj\u001b[0m \u001b[1;32min\u001b[0m \u001b[0mrange\u001b[0m\u001b[1;33m(\u001b[0m\u001b[1;36m5\u001b[0m\u001b[1;33m)\u001b[0m\u001b[1;33m:\u001b[0m\u001b[1;33m\u001b[0m\u001b[1;33m\u001b[0m\u001b[0m\n",
      "\u001b[0m\u001b[1;32m      6 \u001b[1;33m            \u001b[0ml\u001b[0m\u001b[1;33m.\u001b[0m\u001b[0mappend\u001b[0m\u001b[1;33m(\u001b[0m\u001b[0mi\u001b[0m\u001b[1;33m)\u001b[0m\u001b[1;33m\u001b[0m\u001b[1;33m\u001b[0m\u001b[0m\n",
      "\u001b[0m\n",
      "ipdb> next\n",
      "> \u001b[1;32m<ipython-input-4-42c0db6e3cd9>\u001b[0m(6)\u001b[0;36mtestdebug\u001b[1;34m()\u001b[0m\n",
      "\u001b[1;32m      5 \u001b[1;33m        \u001b[1;32mfor\u001b[0m \u001b[0mj\u001b[0m \u001b[1;32min\u001b[0m \u001b[0mrange\u001b[0m\u001b[1;33m(\u001b[0m\u001b[1;36m5\u001b[0m\u001b[1;33m)\u001b[0m\u001b[1;33m:\u001b[0m\u001b[1;33m\u001b[0m\u001b[1;33m\u001b[0m\u001b[0m\n",
      "\u001b[0m\u001b[1;32m----> 6 \u001b[1;33m            \u001b[0ml\u001b[0m\u001b[1;33m.\u001b[0m\u001b[0mappend\u001b[0m\u001b[1;33m(\u001b[0m\u001b[0mi\u001b[0m\u001b[1;33m)\u001b[0m\u001b[1;33m\u001b[0m\u001b[1;33m\u001b[0m\u001b[0m\n",
      "\u001b[0m\u001b[1;32m      7 \u001b[1;33m            \u001b[1;32mif\u001b[0m \u001b[0mi\u001b[0m \u001b[1;33m==\u001b[0m \u001b[1;36m4\u001b[0m \u001b[1;33m:\u001b[0m\u001b[1;33m\u001b[0m\u001b[1;33m\u001b[0m\u001b[0m\n",
      "\u001b[0m\n",
      "ipdb> next\n",
      "> \u001b[1;32m<ipython-input-4-42c0db6e3cd9>\u001b[0m(7)\u001b[0;36mtestdebug\u001b[1;34m()\u001b[0m\n",
      "\u001b[1;32m      6 \u001b[1;33m            \u001b[0ml\u001b[0m\u001b[1;33m.\u001b[0m\u001b[0mappend\u001b[0m\u001b[1;33m(\u001b[0m\u001b[0mi\u001b[0m\u001b[1;33m)\u001b[0m\u001b[1;33m\u001b[0m\u001b[1;33m\u001b[0m\u001b[0m\n",
      "\u001b[0m\u001b[1;32m----> 7 \u001b[1;33m            \u001b[1;32mif\u001b[0m \u001b[0mi\u001b[0m \u001b[1;33m==\u001b[0m \u001b[1;36m4\u001b[0m \u001b[1;33m:\u001b[0m\u001b[1;33m\u001b[0m\u001b[1;33m\u001b[0m\u001b[0m\n",
      "\u001b[0m\u001b[1;32m      8 \u001b[1;33m                \u001b[1;32mcontinue\u001b[0m\u001b[1;33m\u001b[0m\u001b[1;33m\u001b[0m\u001b[0m\n",
      "\u001b[0m\n",
      "ipdb> next\n",
      "> \u001b[1;32m<ipython-input-4-42c0db6e3cd9>\u001b[0m(9)\u001b[0;36mtestdebug\u001b[1;34m()\u001b[0m\n",
      "\u001b[1;32m      8 \u001b[1;33m                \u001b[1;32mcontinue\u001b[0m\u001b[1;33m\u001b[0m\u001b[1;33m\u001b[0m\u001b[0m\n",
      "\u001b[0m\u001b[1;32m----> 9 \u001b[1;33m            \u001b[0mprint\u001b[0m\u001b[1;33m(\u001b[0m\u001b[1;34m\"we have appended your data in list \"\u001b[0m\u001b[1;33m)\u001b[0m\u001b[1;33m\u001b[0m\u001b[1;33m\u001b[0m\u001b[0m\n",
      "\u001b[0m\u001b[1;32m     10 \u001b[1;33m    \u001b[1;32mreturn\u001b[0m \u001b[0ml\u001b[0m\u001b[1;33m\u001b[0m\u001b[1;33m\u001b[0m\u001b[0m\n",
      "\u001b[0m\n",
      "ipdb> next\n",
      "we have appended your data in list \n",
      "> \u001b[1;32m<ipython-input-4-42c0db6e3cd9>\u001b[0m(5)\u001b[0;36mtestdebug\u001b[1;34m()\u001b[0m\n",
      "\u001b[1;32m      4 \u001b[1;33m    \u001b[1;32mfor\u001b[0m \u001b[0mi\u001b[0m \u001b[1;32min\u001b[0m \u001b[0mrange\u001b[0m\u001b[1;33m(\u001b[0m\u001b[1;36m10\u001b[0m\u001b[1;33m)\u001b[0m\u001b[1;33m:\u001b[0m\u001b[1;33m\u001b[0m\u001b[1;33m\u001b[0m\u001b[0m\n",
      "\u001b[0m\u001b[1;32m----> 5 \u001b[1;33m        \u001b[1;32mfor\u001b[0m \u001b[0mj\u001b[0m \u001b[1;32min\u001b[0m \u001b[0mrange\u001b[0m\u001b[1;33m(\u001b[0m\u001b[1;36m5\u001b[0m\u001b[1;33m)\u001b[0m\u001b[1;33m:\u001b[0m\u001b[1;33m\u001b[0m\u001b[1;33m\u001b[0m\u001b[0m\n",
      "\u001b[0m\u001b[1;32m      6 \u001b[1;33m            \u001b[0ml\u001b[0m\u001b[1;33m.\u001b[0m\u001b[0mappend\u001b[0m\u001b[1;33m(\u001b[0m\u001b[0mi\u001b[0m\u001b[1;33m)\u001b[0m\u001b[1;33m\u001b[0m\u001b[1;33m\u001b[0m\u001b[0m\n",
      "\u001b[0m\n",
      "ipdb> next\n",
      "> \u001b[1;32m<ipython-input-4-42c0db6e3cd9>\u001b[0m(6)\u001b[0;36mtestdebug\u001b[1;34m()\u001b[0m\n",
      "\u001b[1;32m      5 \u001b[1;33m        \u001b[1;32mfor\u001b[0m \u001b[0mj\u001b[0m \u001b[1;32min\u001b[0m \u001b[0mrange\u001b[0m\u001b[1;33m(\u001b[0m\u001b[1;36m5\u001b[0m\u001b[1;33m)\u001b[0m\u001b[1;33m:\u001b[0m\u001b[1;33m\u001b[0m\u001b[1;33m\u001b[0m\u001b[0m\n",
      "\u001b[0m\u001b[1;32m----> 6 \u001b[1;33m            \u001b[0ml\u001b[0m\u001b[1;33m.\u001b[0m\u001b[0mappend\u001b[0m\u001b[1;33m(\u001b[0m\u001b[0mi\u001b[0m\u001b[1;33m)\u001b[0m\u001b[1;33m\u001b[0m\u001b[1;33m\u001b[0m\u001b[0m\n",
      "\u001b[0m\u001b[1;32m      7 \u001b[1;33m            \u001b[1;32mif\u001b[0m \u001b[0mi\u001b[0m \u001b[1;33m==\u001b[0m \u001b[1;36m4\u001b[0m \u001b[1;33m:\u001b[0m\u001b[1;33m\u001b[0m\u001b[1;33m\u001b[0m\u001b[0m\n",
      "\u001b[0m\n",
      "ipdb> next\n",
      "> \u001b[1;32m<ipython-input-4-42c0db6e3cd9>\u001b[0m(7)\u001b[0;36mtestdebug\u001b[1;34m()\u001b[0m\n",
      "\u001b[1;32m      6 \u001b[1;33m            \u001b[0ml\u001b[0m\u001b[1;33m.\u001b[0m\u001b[0mappend\u001b[0m\u001b[1;33m(\u001b[0m\u001b[0mi\u001b[0m\u001b[1;33m)\u001b[0m\u001b[1;33m\u001b[0m\u001b[1;33m\u001b[0m\u001b[0m\n",
      "\u001b[0m\u001b[1;32m----> 7 \u001b[1;33m            \u001b[1;32mif\u001b[0m \u001b[0mi\u001b[0m \u001b[1;33m==\u001b[0m \u001b[1;36m4\u001b[0m \u001b[1;33m:\u001b[0m\u001b[1;33m\u001b[0m\u001b[1;33m\u001b[0m\u001b[0m\n",
      "\u001b[0m\u001b[1;32m      8 \u001b[1;33m                \u001b[1;32mcontinue\u001b[0m\u001b[1;33m\u001b[0m\u001b[1;33m\u001b[0m\u001b[0m\n",
      "\u001b[0m\n",
      "ipdb> next\n",
      "> \u001b[1;32m<ipython-input-4-42c0db6e3cd9>\u001b[0m(9)\u001b[0;36mtestdebug\u001b[1;34m()\u001b[0m\n",
      "\u001b[1;32m      8 \u001b[1;33m                \u001b[1;32mcontinue\u001b[0m\u001b[1;33m\u001b[0m\u001b[1;33m\u001b[0m\u001b[0m\n",
      "\u001b[0m\u001b[1;32m----> 9 \u001b[1;33m            \u001b[0mprint\u001b[0m\u001b[1;33m(\u001b[0m\u001b[1;34m\"we have appended your data in list \"\u001b[0m\u001b[1;33m)\u001b[0m\u001b[1;33m\u001b[0m\u001b[1;33m\u001b[0m\u001b[0m\n",
      "\u001b[0m\u001b[1;32m     10 \u001b[1;33m    \u001b[1;32mreturn\u001b[0m \u001b[0ml\u001b[0m\u001b[1;33m\u001b[0m\u001b[1;33m\u001b[0m\u001b[0m\n",
      "\u001b[0m\n",
      "ipdb> i\n",
      "0\n",
      "ipdb> i\n",
      "0\n",
      "ipdb> next\n",
      "we have appended your data in list \n",
      "> \u001b[1;32m<ipython-input-4-42c0db6e3cd9>\u001b[0m(5)\u001b[0;36mtestdebug\u001b[1;34m()\u001b[0m\n",
      "\u001b[1;32m      4 \u001b[1;33m    \u001b[1;32mfor\u001b[0m \u001b[0mi\u001b[0m \u001b[1;32min\u001b[0m \u001b[0mrange\u001b[0m\u001b[1;33m(\u001b[0m\u001b[1;36m10\u001b[0m\u001b[1;33m)\u001b[0m\u001b[1;33m:\u001b[0m\u001b[1;33m\u001b[0m\u001b[1;33m\u001b[0m\u001b[0m\n",
      "\u001b[0m\u001b[1;32m----> 5 \u001b[1;33m        \u001b[1;32mfor\u001b[0m \u001b[0mj\u001b[0m \u001b[1;32min\u001b[0m \u001b[0mrange\u001b[0m\u001b[1;33m(\u001b[0m\u001b[1;36m5\u001b[0m\u001b[1;33m)\u001b[0m\u001b[1;33m:\u001b[0m\u001b[1;33m\u001b[0m\u001b[1;33m\u001b[0m\u001b[0m\n",
      "\u001b[0m\u001b[1;32m      6 \u001b[1;33m            \u001b[0ml\u001b[0m\u001b[1;33m.\u001b[0m\u001b[0mappend\u001b[0m\u001b[1;33m(\u001b[0m\u001b[0mi\u001b[0m\u001b[1;33m)\u001b[0m\u001b[1;33m\u001b[0m\u001b[1;33m\u001b[0m\u001b[0m\n",
      "\u001b[0m\n",
      "ipdb> i\n",
      "0\n",
      "ipdb> c\n",
      "we have appended your data in list \n",
      "we have appended your data in list \n",
      "we have appended your data in list \n",
      "we have appended your data in list \n",
      "we have appended your data in list \n",
      "we have appended your data in list \n",
      "we have appended your data in list \n",
      "we have appended your data in list \n",
      "we have appended your data in list \n",
      "we have appended your data in list \n",
      "we have appended your data in list \n",
      "we have appended your data in list \n",
      "we have appended your data in list \n",
      "we have appended your data in list \n",
      "we have appended your data in list \n",
      "we have appended your data in list \n",
      "we have appended your data in list \n",
      "we have appended your data in list \n",
      "we have appended your data in list \n",
      "we have appended your data in list \n",
      "we have appended your data in list \n",
      "we have appended your data in list \n",
      "we have appended your data in list \n",
      "we have appended your data in list \n",
      "we have appended your data in list \n",
      "we have appended your data in list \n",
      "we have appended your data in list \n",
      "we have appended your data in list \n",
      "we have appended your data in list \n",
      "we have appended your data in list \n",
      "we have appended your data in list \n",
      "we have appended your data in list \n",
      "we have appended your data in list \n",
      "we have appended your data in list \n",
      "we have appended your data in list \n",
      "we have appended your data in list \n",
      "we have appended your data in list \n",
      "we have appended your data in list \n",
      "we have appended your data in list \n",
      "we have appended your data in list \n",
      "we have appended your data in list \n",
      "we have appended your data in list \n",
      "we have appended your data in list \n"
     ]
    },
    {
     "data": {
      "text/plain": [
       "[0,\n",
       " 0,\n",
       " 0,\n",
       " 0,\n",
       " 0,\n",
       " 1,\n",
       " 1,\n",
       " 1,\n",
       " 1,\n",
       " 1,\n",
       " 2,\n",
       " 2,\n",
       " 2,\n",
       " 2,\n",
       " 2,\n",
       " 3,\n",
       " 3,\n",
       " 3,\n",
       " 3,\n",
       " 3,\n",
       " 4,\n",
       " 4,\n",
       " 4,\n",
       " 4,\n",
       " 4,\n",
       " 5,\n",
       " 5,\n",
       " 5,\n",
       " 5,\n",
       " 5,\n",
       " 6,\n",
       " 6,\n",
       " 6,\n",
       " 6,\n",
       " 6,\n",
       " 7,\n",
       " 7,\n",
       " 7,\n",
       " 7,\n",
       " 7,\n",
       " 8,\n",
       " 8,\n",
       " 8,\n",
       " 8,\n",
       " 8,\n",
       " 9,\n",
       " 9,\n",
       " 9,\n",
       " 9,\n",
       " 9]"
      ]
     },
     "execution_count": 5,
     "metadata": {},
     "output_type": "execute_result"
    }
   ],
   "source": [
    "testdebug()\n",
    "#here we are checking flow of the code\n",
    "#and try to keep pointer at particular and we will get a box\n",
    "# when typed h it will show docstring\n",
    "# when typed next code flow has moved to next line and typing next it will move"
   ]
  },
  {
   "cell_type": "code",
   "execution_count": 7,
   "metadata": {},
   "outputs": [
    {
     "name": "stdout",
     "output_type": "stream",
     "text": [
      "> \u001b[1;32m<ipython-input-4-42c0db6e3cd9>\u001b[0m(3)\u001b[0;36mtestdebug\u001b[1;34m()\u001b[0m\n",
      "\u001b[1;32m      2 \u001b[1;33m    \u001b[0mipdb\u001b[0m\u001b[1;33m.\u001b[0m\u001b[0mset_trace\u001b[0m\u001b[1;33m(\u001b[0m\u001b[1;33m)\u001b[0m\u001b[1;33m\u001b[0m\u001b[1;33m\u001b[0m\u001b[0m\n",
      "\u001b[0m\u001b[1;32m----> 3 \u001b[1;33m    \u001b[0ml\u001b[0m \u001b[1;33m=\u001b[0m \u001b[1;33m[\u001b[0m\u001b[1;33m]\u001b[0m\u001b[1;33m\u001b[0m\u001b[1;33m\u001b[0m\u001b[0m\n",
      "\u001b[0m\u001b[1;32m      4 \u001b[1;33m    \u001b[1;32mfor\u001b[0m \u001b[0mi\u001b[0m \u001b[1;32min\u001b[0m \u001b[0mrange\u001b[0m\u001b[1;33m(\u001b[0m\u001b[1;36m10\u001b[0m\u001b[1;33m)\u001b[0m\u001b[1;33m:\u001b[0m\u001b[1;33m\u001b[0m\u001b[1;33m\u001b[0m\u001b[0m\n",
      "\u001b[0m\n",
      "ipdb> n\n",
      "> \u001b[1;32m<ipython-input-4-42c0db6e3cd9>\u001b[0m(4)\u001b[0;36mtestdebug\u001b[1;34m()\u001b[0m\n",
      "\u001b[1;32m      3 \u001b[1;33m    \u001b[0ml\u001b[0m \u001b[1;33m=\u001b[0m \u001b[1;33m[\u001b[0m\u001b[1;33m]\u001b[0m\u001b[1;33m\u001b[0m\u001b[1;33m\u001b[0m\u001b[0m\n",
      "\u001b[0m\u001b[1;32m----> 4 \u001b[1;33m    \u001b[1;32mfor\u001b[0m \u001b[0mi\u001b[0m \u001b[1;32min\u001b[0m \u001b[0mrange\u001b[0m\u001b[1;33m(\u001b[0m\u001b[1;36m10\u001b[0m\u001b[1;33m)\u001b[0m\u001b[1;33m:\u001b[0m\u001b[1;33m\u001b[0m\u001b[1;33m\u001b[0m\u001b[0m\n",
      "\u001b[0m\u001b[1;32m      5 \u001b[1;33m        \u001b[1;32mfor\u001b[0m \u001b[0mj\u001b[0m \u001b[1;32min\u001b[0m \u001b[0mrange\u001b[0m\u001b[1;33m(\u001b[0m\u001b[1;36m5\u001b[0m\u001b[1;33m)\u001b[0m\u001b[1;33m:\u001b[0m\u001b[1;33m\u001b[0m\u001b[1;33m\u001b[0m\u001b[0m\n",
      "\u001b[0m\n",
      "ipdb> n\n",
      "> \u001b[1;32m<ipython-input-4-42c0db6e3cd9>\u001b[0m(5)\u001b[0;36mtestdebug\u001b[1;34m()\u001b[0m\n",
      "\u001b[1;32m      4 \u001b[1;33m    \u001b[1;32mfor\u001b[0m \u001b[0mi\u001b[0m \u001b[1;32min\u001b[0m \u001b[0mrange\u001b[0m\u001b[1;33m(\u001b[0m\u001b[1;36m10\u001b[0m\u001b[1;33m)\u001b[0m\u001b[1;33m:\u001b[0m\u001b[1;33m\u001b[0m\u001b[1;33m\u001b[0m\u001b[0m\n",
      "\u001b[0m\u001b[1;32m----> 5 \u001b[1;33m        \u001b[1;32mfor\u001b[0m \u001b[0mj\u001b[0m \u001b[1;32min\u001b[0m \u001b[0mrange\u001b[0m\u001b[1;33m(\u001b[0m\u001b[1;36m5\u001b[0m\u001b[1;33m)\u001b[0m\u001b[1;33m:\u001b[0m\u001b[1;33m\u001b[0m\u001b[1;33m\u001b[0m\u001b[0m\n",
      "\u001b[0m\u001b[1;32m      6 \u001b[1;33m            \u001b[0ml\u001b[0m\u001b[1;33m.\u001b[0m\u001b[0mappend\u001b[0m\u001b[1;33m(\u001b[0m\u001b[0mi\u001b[0m\u001b[1;33m)\u001b[0m\u001b[1;33m\u001b[0m\u001b[1;33m\u001b[0m\u001b[0m\n",
      "\u001b[0m\n",
      "ipdb> n\n",
      "> \u001b[1;32m<ipython-input-4-42c0db6e3cd9>\u001b[0m(6)\u001b[0;36mtestdebug\u001b[1;34m()\u001b[0m\n",
      "\u001b[1;32m      5 \u001b[1;33m        \u001b[1;32mfor\u001b[0m \u001b[0mj\u001b[0m \u001b[1;32min\u001b[0m \u001b[0mrange\u001b[0m\u001b[1;33m(\u001b[0m\u001b[1;36m5\u001b[0m\u001b[1;33m)\u001b[0m\u001b[1;33m:\u001b[0m\u001b[1;33m\u001b[0m\u001b[1;33m\u001b[0m\u001b[0m\n",
      "\u001b[0m\u001b[1;32m----> 6 \u001b[1;33m            \u001b[0ml\u001b[0m\u001b[1;33m.\u001b[0m\u001b[0mappend\u001b[0m\u001b[1;33m(\u001b[0m\u001b[0mi\u001b[0m\u001b[1;33m)\u001b[0m\u001b[1;33m\u001b[0m\u001b[1;33m\u001b[0m\u001b[0m\n",
      "\u001b[0m\u001b[1;32m      7 \u001b[1;33m            \u001b[1;32mif\u001b[0m \u001b[0mi\u001b[0m \u001b[1;33m==\u001b[0m \u001b[1;36m4\u001b[0m \u001b[1;33m:\u001b[0m\u001b[1;33m\u001b[0m\u001b[1;33m\u001b[0m\u001b[0m\n",
      "\u001b[0m\n",
      "ipdb> n\n",
      "> \u001b[1;32m<ipython-input-4-42c0db6e3cd9>\u001b[0m(7)\u001b[0;36mtestdebug\u001b[1;34m()\u001b[0m\n",
      "\u001b[1;32m      6 \u001b[1;33m            \u001b[0ml\u001b[0m\u001b[1;33m.\u001b[0m\u001b[0mappend\u001b[0m\u001b[1;33m(\u001b[0m\u001b[0mi\u001b[0m\u001b[1;33m)\u001b[0m\u001b[1;33m\u001b[0m\u001b[1;33m\u001b[0m\u001b[0m\n",
      "\u001b[0m\u001b[1;32m----> 7 \u001b[1;33m            \u001b[1;32mif\u001b[0m \u001b[0mi\u001b[0m \u001b[1;33m==\u001b[0m \u001b[1;36m4\u001b[0m \u001b[1;33m:\u001b[0m\u001b[1;33m\u001b[0m\u001b[1;33m\u001b[0m\u001b[0m\n",
      "\u001b[0m\u001b[1;32m      8 \u001b[1;33m                \u001b[1;32mcontinue\u001b[0m\u001b[1;33m\u001b[0m\u001b[1;33m\u001b[0m\u001b[0m\n",
      "\u001b[0m\n",
      "ipdb> n\n",
      "> \u001b[1;32m<ipython-input-4-42c0db6e3cd9>\u001b[0m(9)\u001b[0;36mtestdebug\u001b[1;34m()\u001b[0m\n",
      "\u001b[1;32m      8 \u001b[1;33m                \u001b[1;32mcontinue\u001b[0m\u001b[1;33m\u001b[0m\u001b[1;33m\u001b[0m\u001b[0m\n",
      "\u001b[0m\u001b[1;32m----> 9 \u001b[1;33m            \u001b[0mprint\u001b[0m\u001b[1;33m(\u001b[0m\u001b[1;34m\"we have appended your data in list \"\u001b[0m\u001b[1;33m)\u001b[0m\u001b[1;33m\u001b[0m\u001b[1;33m\u001b[0m\u001b[0m\n",
      "\u001b[0m\u001b[1;32m     10 \u001b[1;33m    \u001b[1;32mreturn\u001b[0m \u001b[0ml\u001b[0m\u001b[1;33m\u001b[0m\u001b[1;33m\u001b[0m\u001b[0m\n",
      "\u001b[0m\n",
      "ipdb> j\n",
      "*** The 'jump' command requires a line number\n",
      "ipdb> i\n",
      "0\n",
      "ipdb> i==5\n",
      "False\n",
      "ipdb> i==0\n",
      "True\n",
      "ipdb> next\n",
      "we have appended your data in list \n",
      "> \u001b[1;32m<ipython-input-4-42c0db6e3cd9>\u001b[0m(5)\u001b[0;36mtestdebug\u001b[1;34m()\u001b[0m\n",
      "\u001b[1;32m      4 \u001b[1;33m    \u001b[1;32mfor\u001b[0m \u001b[0mi\u001b[0m \u001b[1;32min\u001b[0m \u001b[0mrange\u001b[0m\u001b[1;33m(\u001b[0m\u001b[1;36m10\u001b[0m\u001b[1;33m)\u001b[0m\u001b[1;33m:\u001b[0m\u001b[1;33m\u001b[0m\u001b[1;33m\u001b[0m\u001b[0m\n",
      "\u001b[0m\u001b[1;32m----> 5 \u001b[1;33m        \u001b[1;32mfor\u001b[0m \u001b[0mj\u001b[0m \u001b[1;32min\u001b[0m \u001b[0mrange\u001b[0m\u001b[1;33m(\u001b[0m\u001b[1;36m5\u001b[0m\u001b[1;33m)\u001b[0m\u001b[1;33m:\u001b[0m\u001b[1;33m\u001b[0m\u001b[1;33m\u001b[0m\u001b[0m\n",
      "\u001b[0m\u001b[1;32m      6 \u001b[1;33m            \u001b[0ml\u001b[0m\u001b[1;33m.\u001b[0m\u001b[0mappend\u001b[0m\u001b[1;33m(\u001b[0m\u001b[0mi\u001b[0m\u001b[1;33m)\u001b[0m\u001b[1;33m\u001b[0m\u001b[1;33m\u001b[0m\u001b[0m\n",
      "\u001b[0m\n",
      "ipdb> i==1\n",
      "False\n",
      "ipdb> i=7\n",
      "ipdb> next\n",
      "> \u001b[1;32m<ipython-input-4-42c0db6e3cd9>\u001b[0m(6)\u001b[0;36mtestdebug\u001b[1;34m()\u001b[0m\n",
      "\u001b[1;32m      5 \u001b[1;33m        \u001b[1;32mfor\u001b[0m \u001b[0mj\u001b[0m \u001b[1;32min\u001b[0m \u001b[0mrange\u001b[0m\u001b[1;33m(\u001b[0m\u001b[1;36m5\u001b[0m\u001b[1;33m)\u001b[0m\u001b[1;33m:\u001b[0m\u001b[1;33m\u001b[0m\u001b[1;33m\u001b[0m\u001b[0m\n",
      "\u001b[0m\u001b[1;32m----> 6 \u001b[1;33m            \u001b[0ml\u001b[0m\u001b[1;33m.\u001b[0m\u001b[0mappend\u001b[0m\u001b[1;33m(\u001b[0m\u001b[0mi\u001b[0m\u001b[1;33m)\u001b[0m\u001b[1;33m\u001b[0m\u001b[1;33m\u001b[0m\u001b[0m\n",
      "\u001b[0m\u001b[1;32m      7 \u001b[1;33m            \u001b[1;32mif\u001b[0m \u001b[0mi\u001b[0m \u001b[1;33m==\u001b[0m \u001b[1;36m4\u001b[0m \u001b[1;33m:\u001b[0m\u001b[1;33m\u001b[0m\u001b[1;33m\u001b[0m\u001b[0m\n",
      "\u001b[0m\n",
      "ipdb> next\n",
      "> \u001b[1;32m<ipython-input-4-42c0db6e3cd9>\u001b[0m(7)\u001b[0;36mtestdebug\u001b[1;34m()\u001b[0m\n",
      "\u001b[1;32m      6 \u001b[1;33m            \u001b[0ml\u001b[0m\u001b[1;33m.\u001b[0m\u001b[0mappend\u001b[0m\u001b[1;33m(\u001b[0m\u001b[0mi\u001b[0m\u001b[1;33m)\u001b[0m\u001b[1;33m\u001b[0m\u001b[1;33m\u001b[0m\u001b[0m\n",
      "\u001b[0m\u001b[1;32m----> 7 \u001b[1;33m            \u001b[1;32mif\u001b[0m \u001b[0mi\u001b[0m \u001b[1;33m==\u001b[0m \u001b[1;36m4\u001b[0m \u001b[1;33m:\u001b[0m\u001b[1;33m\u001b[0m\u001b[1;33m\u001b[0m\u001b[0m\n",
      "\u001b[0m\u001b[1;32m      8 \u001b[1;33m                \u001b[1;32mcontinue\u001b[0m\u001b[1;33m\u001b[0m\u001b[1;33m\u001b[0m\u001b[0m\n",
      "\u001b[0m\n",
      "ipdb> help jump\n",
      "j(ump) lineno\n",
      "        Set the next line that will be executed.  Only available in\n",
      "        the bottom-most frame.  This lets you jump back and execute\n",
      "        code again, or jump forward to skip code that you don't want\n",
      "        to run.\n",
      "\n",
      "        It should be noted that not all jumps are allowed -- for\n",
      "        instance it is not possible to jump into the middle of a\n",
      "        for loop or out of a finally clause.\n",
      "ipdb> d\n",
      "*** Newest frame\n",
      "ipdb> d\n",
      "*** Newest frame\n",
      "ipdb> u\n",
      "> \u001b[1;32m<ipython-input-7-102f76f7444a>\u001b[0m(1)\u001b[0;36m<module>\u001b[1;34m()\u001b[0m\n",
      "\u001b[1;32m----> 1 \u001b[1;33m\u001b[0mtestdebug\u001b[0m\u001b[1;33m(\u001b[0m\u001b[1;33m)\u001b[0m\u001b[1;33m\u001b[0m\u001b[1;33m\u001b[0m\u001b[0m\n",
      "\u001b[0m\n",
      "ipdb> next\n",
      "we have appended your data in list \n",
      "we have appended your data in list \n",
      "we have appended your data in list \n",
      "we have appended your data in list \n",
      "we have appended your data in list \n",
      "we have appended your data in list \n",
      "we have appended your data in list \n",
      "we have appended your data in list \n",
      "we have appended your data in list \n",
      "we have appended your data in list \n",
      "we have appended your data in list \n",
      "we have appended your data in list \n",
      "we have appended your data in list \n",
      "we have appended your data in list \n",
      "we have appended your data in list \n",
      "we have appended your data in list \n",
      "we have appended your data in list \n",
      "we have appended your data in list \n",
      "we have appended your data in list \n",
      "we have appended your data in list \n",
      "we have appended your data in list \n",
      "we have appended your data in list \n",
      "we have appended your data in list \n",
      "we have appended your data in list \n",
      "we have appended your data in list \n",
      "we have appended your data in list \n",
      "we have appended your data in list \n",
      "we have appended your data in list \n",
      "we have appended your data in list \n",
      "we have appended your data in list \n",
      "we have appended your data in list \n",
      "we have appended your data in list \n",
      "we have appended your data in list \n",
      "we have appended your data in list \n",
      "we have appended your data in list \n",
      "we have appended your data in list \n",
      "we have appended your data in list \n",
      "we have appended your data in list \n",
      "we have appended your data in list \n",
      "we have appended your data in list \n",
      "we have appended your data in list \n",
      "we have appended your data in list \n",
      "we have appended your data in list \n",
      "we have appended your data in list \n"
     ]
    },
    {
     "data": {
      "text/plain": [
       "[0,\n",
       " 7,\n",
       " 7,\n",
       " 7,\n",
       " 7,\n",
       " 1,\n",
       " 1,\n",
       " 1,\n",
       " 1,\n",
       " 1,\n",
       " 2,\n",
       " 2,\n",
       " 2,\n",
       " 2,\n",
       " 2,\n",
       " 3,\n",
       " 3,\n",
       " 3,\n",
       " 3,\n",
       " 3,\n",
       " 4,\n",
       " 4,\n",
       " 4,\n",
       " 4,\n",
       " 4,\n",
       " 5,\n",
       " 5,\n",
       " 5,\n",
       " 5,\n",
       " 5,\n",
       " 6,\n",
       " 6,\n",
       " 6,\n",
       " 6,\n",
       " 6,\n",
       " 7,\n",
       " 7,\n",
       " 7,\n",
       " 7,\n",
       " 7,\n",
       " 8,\n",
       " 8,\n",
       " 8,\n",
       " 8,\n",
       " 8,\n",
       " 9,\n",
       " 9,\n",
       " 9,\n",
       " 9,\n",
       " 9]"
      ]
     },
     "execution_count": 7,
     "metadata": {},
     "output_type": "execute_result"
    },
    {
     "name": "stdout",
     "output_type": "stream",
     "text": [
      "--Return--\n",
      "None\n",
      "> \u001b[1;32m<ipython-input-7-102f76f7444a>\u001b[0m(1)\u001b[0;36m<module>\u001b[1;34m()\u001b[0m\n",
      "\u001b[1;32m----> 1 \u001b[1;33m\u001b[0mtestdebug\u001b[0m\u001b[1;33m(\u001b[0m\u001b[1;33m)\u001b[0m\u001b[1;33m\u001b[0m\u001b[1;33m\u001b[0m\u001b[0m\n",
      "\u001b[0m\n",
      "ipdb> n\n",
      "\u001b[1;31m    [... skipped 1 hidden frame]\u001b[0m\n",
      "\n",
      "\u001b[1;31m    [... skipped 1 hidden frame]\u001b[0m\n",
      "\n",
      "\u001b[1;31m    [... skipped 1 hidden frame]\u001b[0m\n",
      "\n",
      "\u001b[1;31m    [... skipped 1 hidden frame]\u001b[0m\n",
      "\n",
      "> \u001b[1;32mc:\\users\\hp\\anaconda3\\lib\\site-packages\\ipython\\core\\interactiveshell.py\u001b[0m(3330)\u001b[0;36mrun_ast_nodes\u001b[1;34m()\u001b[0m\n",
      "\u001b[1;32m   3329 \u001b[1;33m\u001b[1;33m\u001b[0m\u001b[0m\n",
      "\u001b[0m\u001b[1;32m-> 3330 \u001b[1;33m                \u001b[1;32mfor\u001b[0m \u001b[0mnode\u001b[0m\u001b[1;33m,\u001b[0m\u001b[0mmode\u001b[0m \u001b[1;32min\u001b[0m \u001b[0mto_run\u001b[0m\u001b[1;33m:\u001b[0m\u001b[1;33m\u001b[0m\u001b[1;33m\u001b[0m\u001b[0m\n",
      "\u001b[0m\u001b[1;32m   3331 \u001b[1;33m                    \u001b[1;32mif\u001b[0m \u001b[0mmode\u001b[0m \u001b[1;33m==\u001b[0m \u001b[1;34m'exec'\u001b[0m\u001b[1;33m:\u001b[0m\u001b[1;33m\u001b[0m\u001b[1;33m\u001b[0m\u001b[0m\n",
      "\u001b[0m\n",
      "ipdb> \n",
      "> \u001b[1;32mc:\\users\\hp\\anaconda3\\lib\\site-packages\\ipython\\core\\interactiveshell.py\u001b[0m(3342)\u001b[0;36mrun_ast_nodes\u001b[1;34m()\u001b[0m\n",
      "\u001b[1;32m   3341 \u001b[1;33m            \u001b[1;31m# Flush softspace\u001b[0m\u001b[1;33m\u001b[0m\u001b[1;33m\u001b[0m\u001b[1;33m\u001b[0m\u001b[0m\n",
      "\u001b[0m\u001b[1;32m-> 3342 \u001b[1;33m            \u001b[1;32mif\u001b[0m \u001b[0msoftspace\u001b[0m\u001b[1;33m(\u001b[0m\u001b[0msys\u001b[0m\u001b[1;33m.\u001b[0m\u001b[0mstdout\u001b[0m\u001b[1;33m,\u001b[0m \u001b[1;36m0\u001b[0m\u001b[1;33m)\u001b[0m\u001b[1;33m:\u001b[0m\u001b[1;33m\u001b[0m\u001b[1;33m\u001b[0m\u001b[0m\n",
      "\u001b[0m\u001b[1;32m   3343 \u001b[1;33m                \u001b[0mprint\u001b[0m\u001b[1;33m(\u001b[0m\u001b[1;33m)\u001b[0m\u001b[1;33m\u001b[0m\u001b[1;33m\u001b[0m\u001b[0m\n",
      "\u001b[0m\n",
      "ipdb> n\n",
      "> \u001b[1;32mc:\\users\\hp\\anaconda3\\lib\\site-packages\\ipython\\core\\interactiveshell.py\u001b[0m(3360)\u001b[0;36mrun_ast_nodes\u001b[1;34m()\u001b[0m\n",
      "\u001b[1;32m   3359 \u001b[1;33m\u001b[1;33m\u001b[0m\u001b[0m\n",
      "\u001b[0m\u001b[1;32m-> 3360 \u001b[1;33m        \u001b[1;32mreturn\u001b[0m \u001b[1;32mFalse\u001b[0m\u001b[1;33m\u001b[0m\u001b[1;33m\u001b[0m\u001b[0m\n",
      "\u001b[0m\u001b[1;32m   3361 \u001b[1;33m\u001b[1;33m\u001b[0m\u001b[0m\n",
      "\u001b[0m\n",
      "ipdb> n\n",
      "Internal StopIteration: False\n",
      "> \u001b[1;32mc:\\users\\hp\\anaconda3\\lib\\site-packages\\ipython\\core\\interactiveshell.py\u001b[0m(3146)\u001b[0;36mrun_cell_async\u001b[1;34m()\u001b[0m\n",
      "\u001b[1;32m   3145 \u001b[1;33m\u001b[1;33m\u001b[0m\u001b[0m\n",
      "\u001b[0m\u001b[1;32m-> 3146 \u001b[1;33m                has_raised = await self.run_ast_nodes(code_ast.body, cell_name,\n",
      "\u001b[0m\u001b[1;32m   3147 \u001b[1;33m                       interactivity=interactivity, compiler=compiler, result=result)\n",
      "\u001b[0m\n",
      "ipdb> n\n",
      "> \u001b[1;32mc:\\users\\hp\\anaconda3\\lib\\site-packages\\ipython\\core\\interactiveshell.py\u001b[0m(3149)\u001b[0;36mrun_cell_async\u001b[1;34m()\u001b[0m\n",
      "\u001b[1;32m   3148 \u001b[1;33m\u001b[1;33m\u001b[0m\u001b[0m\n",
      "\u001b[0m\u001b[1;32m-> 3149 \u001b[1;33m                \u001b[0mself\u001b[0m\u001b[1;33m.\u001b[0m\u001b[0mlast_execution_succeeded\u001b[0m \u001b[1;33m=\u001b[0m \u001b[1;32mnot\u001b[0m \u001b[0mhas_raised\u001b[0m\u001b[1;33m\u001b[0m\u001b[1;33m\u001b[0m\u001b[0m\n",
      "\u001b[0m\u001b[1;32m   3150 \u001b[1;33m                \u001b[0mself\u001b[0m\u001b[1;33m.\u001b[0m\u001b[0mlast_execution_result\u001b[0m \u001b[1;33m=\u001b[0m \u001b[0mresult\u001b[0m\u001b[1;33m\u001b[0m\u001b[1;33m\u001b[0m\u001b[0m\n",
      "\u001b[0m\n",
      "ipdb> n\n",
      "> \u001b[1;32mc:\\users\\hp\\anaconda3\\lib\\site-packages\\ipython\\core\\interactiveshell.py\u001b[0m(3150)\u001b[0;36mrun_cell_async\u001b[1;34m()\u001b[0m\n",
      "\u001b[1;32m   3149 \u001b[1;33m                \u001b[0mself\u001b[0m\u001b[1;33m.\u001b[0m\u001b[0mlast_execution_succeeded\u001b[0m \u001b[1;33m=\u001b[0m \u001b[1;32mnot\u001b[0m \u001b[0mhas_raised\u001b[0m\u001b[1;33m\u001b[0m\u001b[1;33m\u001b[0m\u001b[0m\n",
      "\u001b[0m\u001b[1;32m-> 3150 \u001b[1;33m                \u001b[0mself\u001b[0m\u001b[1;33m.\u001b[0m\u001b[0mlast_execution_result\u001b[0m \u001b[1;33m=\u001b[0m \u001b[0mresult\u001b[0m\u001b[1;33m\u001b[0m\u001b[1;33m\u001b[0m\u001b[0m\n",
      "\u001b[0m\u001b[1;32m   3151 \u001b[1;33m\u001b[1;33m\u001b[0m\u001b[0m\n",
      "\u001b[0m\n",
      "ipdb> c\n"
     ]
    }
   ],
   "source": [
    "testdebug()"
   ]
  },
  {
   "cell_type": "markdown",
   "metadata": {},
   "source": [
    "when we are typing \"n\" the flow of loop is moving from to another.\n",
    "this is possible because we had written continue.\n",
    "\"c\" is used to complete the debugger."
   ]
  },
  {
   "cell_type": "code",
   "execution_count": null,
   "metadata": {},
   "outputs": [],
   "source": []
  },
  {
   "cell_type": "code",
   "execution_count": null,
   "metadata": {},
   "outputs": [],
   "source": []
  },
  {
   "cell_type": "markdown",
   "metadata": {},
   "source": [
    "CHALLENGE (TASK):\n",
    "    Create a app and we will be able to access and see diffeent types of folders avaialbele inside my operating syatem. and then it will be able to place into a new folder. kind off file manager.\n",
    "    example (tinker, kivy)"
   ]
  },
  {
   "cell_type": "markdown",
   "metadata": {},
   "source": [
    "### THANK YOU & Enjoy Learning"
   ]
  }
 ],
 "metadata": {
  "kernelspec": {
   "display_name": "Python 3",
   "language": "python",
   "name": "python3"
  },
  "language_info": {
   "codemirror_mode": {
    "name": "ipython",
    "version": 3
   },
   "file_extension": ".py",
   "mimetype": "text/x-python",
   "name": "python",
   "nbconvert_exporter": "python",
   "pygments_lexer": "ipython3",
   "version": "3.8.5"
  }
 },
 "nbformat": 4,
 "nbformat_minor": 4
}
